{
 "cells": [
  {
   "cell_type": "markdown",
   "id": "83be6e9e",
   "metadata": {},
   "source": [
    "# NCI 60 Data\n",
    "\n",
    "NCI microarray data. The data contains expression levels on 6830\n",
    "genes from 64 cancer cell lines. Cancer type is also recorded.\n",
    "\n",
    "The format is a list containing two elements: ‘data’ and ‘labs’.\n",
    "\n",
    "- `data`: is a 64 by 6830 matrix of the expression values while\n",
    "\n",
    "- `labs`: is a vector listing the cancer types for the 64 cell lines.\n",
    "\n",
    "## Source\n",
    "\n",
    "The data come from Ross et al. (Nat Genet., 2000). More information can be obtained at\n",
    "[http://genome-www.stanford.edu/nci60](http://genome-www.stanford.edu/nci60)."
   ]
  },
  {
   "cell_type": "code",
   "execution_count": null,
   "id": "c88c2eaf",
   "metadata": {
    "execution": {
     "iopub.execute_input": "2023-07-26T12:47:07.189429Z",
     "iopub.status.busy": "2023-07-26T12:47:07.188891Z",
     "iopub.status.idle": "2023-07-26T12:47:07.734853Z",
     "shell.execute_reply": "2023-07-26T12:47:07.734392Z"
    }
   },
   "outputs": [],
   "source": [
    "from ISLP import load_data\n",
    "NCI60 = load_data('NCI60')\n",
    "NCI60.keys()"
   ]
  },
  {
   "cell_type": "code",
   "execution_count": null,
   "id": "0e6279ad",
   "metadata": {
    "execution": {
     "iopub.execute_input": "2023-07-26T12:47:07.736643Z",
     "iopub.status.busy": "2023-07-26T12:47:07.736477Z",
     "iopub.status.idle": "2023-07-26T12:47:07.740295Z",
     "shell.execute_reply": "2023-07-26T12:47:07.739954Z"
    }
   },
   "outputs": [],
   "source": [
    "NCI60['labels'].value_counts()"
   ]
  },
  {
   "cell_type": "code",
   "execution_count": null,
   "id": "ed5ddd2f",
   "metadata": {
    "execution": {
     "iopub.execute_input": "2023-07-26T12:47:07.741963Z",
     "iopub.status.busy": "2023-07-26T12:47:07.741866Z",
     "iopub.status.idle": "2023-07-26T12:47:07.744496Z",
     "shell.execute_reply": "2023-07-26T12:47:07.744146Z"
    }
   },
   "outputs": [],
   "source": [
    "NCI60['data'].shape"
   ]
  }
 ],
 "metadata": {
  "jupytext": {
   "cell_metadata_filter": "-all",
   "formats": "source/datasets///ipynb,jupyterbook/datasets///md:myst,jupyterbook/datasets///ipynb",
   "main_language": "python"
  },
  "kernelspec": {
   "display_name": "python3",
   "language": "python",
   "name": "python3"
  },
  "language_info": {
   "codemirror_mode": {
    "name": "ipython",
    "version": 3
   },
   "file_extension": ".py",
   "mimetype": "text/x-python",
   "name": "python",
   "nbconvert_exporter": "python",
   "pygments_lexer": "ipython3",
   "version": "3.9.17"
  }
 },
 "nbformat": 4,
 "nbformat_minor": 5
}
