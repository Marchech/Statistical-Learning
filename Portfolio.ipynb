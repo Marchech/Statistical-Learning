{
 "cells": [
  {
   "cell_type": "markdown",
   "id": "e7030b1c",
   "metadata": {},
   "source": [
    "# Portfolio Data\n",
    "\n",
    "A simple simulated data set containing 100 returns for each of two\n",
    "assets, X and Y. The data is used to estimate the optimal fraction\n",
    "to invest in each asset to minimize investment risk of the\n",
    "combined portfolio. One can then use the Bootstrap to estimate the\n",
    "standard error of this estimate.\n",
    "\n",
    "- `X`: Returns for Asset X\n",
    "\n",
    "- `Y`: Returns for Asset Y"
   ]
  },
  {
   "cell_type": "code",
   "execution_count": null,
   "id": "3adff220",
   "metadata": {
    "execution": {
     "iopub.execute_input": "2023-07-26T12:47:02.309375Z",
     "iopub.status.busy": "2023-07-26T12:47:02.308873Z",
     "iopub.status.idle": "2023-07-26T12:47:02.849537Z",
     "shell.execute_reply": "2023-07-26T12:47:02.849247Z"
    }
   },
   "outputs": [],
   "source": [
    "from ISLP import load_data\n",
    "Portfolio = load_data('Portfolio')\n",
    "Portfolio.columns"
   ]
  },
  {
   "cell_type": "code",
   "execution_count": null,
   "id": "b02a9e67",
   "metadata": {
    "execution": {
     "iopub.execute_input": "2023-07-26T12:47:02.851392Z",
     "iopub.status.busy": "2023-07-26T12:47:02.851244Z",
     "iopub.status.idle": "2023-07-26T12:47:02.853779Z",
     "shell.execute_reply": "2023-07-26T12:47:02.853348Z"
    }
   },
   "outputs": [],
   "source": [
    "Portfolio.shape"
   ]
  },
  {
   "cell_type": "code",
   "execution_count": null,
   "id": "3e83a0ed",
   "metadata": {
    "execution": {
     "iopub.execute_input": "2023-07-26T12:47:02.855660Z",
     "iopub.status.busy": "2023-07-26T12:47:02.855540Z",
     "iopub.status.idle": "2023-07-26T12:47:02.858065Z",
     "shell.execute_reply": "2023-07-26T12:47:02.857779Z"
    }
   },
   "outputs": [],
   "source": [
    "Portfolio.columns"
   ]
  },
  {
   "cell_type": "code",
   "execution_count": null,
   "id": "3ebec412",
   "metadata": {
    "execution": {
     "iopub.execute_input": "2023-07-26T12:47:02.859606Z",
     "iopub.status.busy": "2023-07-26T12:47:02.859503Z",
     "iopub.status.idle": "2023-07-26T12:47:02.865754Z",
     "shell.execute_reply": "2023-07-26T12:47:02.865418Z"
    }
   },
   "outputs": [],
   "source": [
    "Portfolio.describe()"
   ]
  }
 ],
 "metadata": {
  "jupytext": {
   "cell_metadata_filter": "-all",
   "formats": "source/datasets///ipynb,jupyterbook/datasets///md:myst,jupyterbook/datasets///ipynb",
   "main_language": "python"
  },
  "kernelspec": {
   "display_name": "python3",
   "language": "python",
   "name": "python3"
  },
  "language_info": {
   "codemirror_mode": {
    "name": "ipython",
    "version": 3
   },
   "file_extension": ".py",
   "mimetype": "text/x-python",
   "name": "python",
   "nbconvert_exporter": "python",
   "pygments_lexer": "ipython3",
   "version": "3.9.17"
  }
 },
 "nbformat": 4,
 "nbformat_minor": 5
}
