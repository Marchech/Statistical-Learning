{
 "cells": [
  {
   "cell_type": "markdown",
   "id": "ca0bb7f1",
   "metadata": {},
   "source": [
    "# Caravan\n",
    "\n",
    "The data contains 5822 real customer records. Each record consists of 86 variables, containing\n",
    "sociodemographic data (variables 1-43) and product ownership (variables 44-86). The sociodemographic data is derived from zip codes. All customers living in areas with the same zip code have\n",
    "the same sociodemographic attributes. Variable 86 (Purchase) indicates whether the customer purchased a caravan insurance policy. Further information on the individual variables can be obtained\n",
    "at [http://www.liacs.nl/~putten/library/cc2000/data.html](http://www.liacs.nl/~putten/library/cc2000/data.html)\n",
    "\n",
    "## References\n",
    "\n",
    "- P. van der Putten and M. van Someren (eds) . CoIL Challenge\n",
    "  2000: The Insurance Company Case.  Published by Sentient Machine\n",
    "  Research, Amsterdam. Also a Leiden Institute of Advanced Computer\n",
    "  Science Technical Report 2000-09. June 22, 2000. See\n",
    "  [http://www.liacs.nl/~putten/library/cc2000/](http://www.liacs.nl/~putten/library/cc2000/)\n",
    "\n",
    "-  P. van der Putten and M. van Someren. A Bias-Variance Analysis of a Real World Learning Problem: The CoIL Challenge 2000. Machine Learning, October 2004, vol. 57, iss. 1-2, pp. 177-195, Kluwer Academic Publishers"
   ]
  },
  {
   "cell_type": "code",
   "execution_count": null,
   "id": "1f9a6aaa",
   "metadata": {
    "execution": {
     "iopub.execute_input": "2023-07-26T12:47:12.041705Z",
     "iopub.status.busy": "2023-07-26T12:47:12.040979Z",
     "iopub.status.idle": "2023-07-26T12:47:12.637566Z",
     "shell.execute_reply": "2023-07-26T12:47:12.637297Z"
    }
   },
   "outputs": [],
   "source": [
    "from ISLP import load_data\n",
    "Caravan = load_data('Caravan')\n",
    "Caravan.columns"
   ]
  },
  {
   "cell_type": "code",
   "execution_count": null,
   "id": "88755969",
   "metadata": {
    "execution": {
     "iopub.execute_input": "2023-07-26T12:47:12.639146Z",
     "iopub.status.busy": "2023-07-26T12:47:12.639031Z",
     "iopub.status.idle": "2023-07-26T12:47:12.640881Z",
     "shell.execute_reply": "2023-07-26T12:47:12.640666Z"
    }
   },
   "outputs": [],
   "source": [
    "Caravan.shape"
   ]
  },
  {
   "cell_type": "code",
   "execution_count": null,
   "id": "52ea2641",
   "metadata": {
    "execution": {
     "iopub.execute_input": "2023-07-26T12:47:12.642281Z",
     "iopub.status.busy": "2023-07-26T12:47:12.642186Z",
     "iopub.status.idle": "2023-07-26T12:47:12.644243Z",
     "shell.execute_reply": "2023-07-26T12:47:12.644020Z"
    }
   },
   "outputs": [],
   "source": [
    "Caravan.columns[:20]"
   ]
  }
 ],
 "metadata": {
  "jupytext": {
   "cell_metadata_filter": "-all",
   "formats": "source/datasets///ipynb,jupyterbook/datasets///md:myst,jupyterbook/datasets///ipynb",
   "main_language": "python"
  },
  "kernelspec": {
   "display_name": "python3",
   "language": "python",
   "name": "python3"
  },
  "language_info": {
   "codemirror_mode": {
    "name": "ipython",
    "version": 3
   },
   "file_extension": ".py",
   "mimetype": "text/x-python",
   "name": "python",
   "nbconvert_exporter": "python",
   "pygments_lexer": "ipython3",
   "version": "3.9.17"
  }
 },
 "nbformat": 4,
 "nbformat_minor": 5
}
