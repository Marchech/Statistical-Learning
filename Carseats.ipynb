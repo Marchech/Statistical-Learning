{
 "cells": [
  {
   "cell_type": "markdown",
   "id": "c24940cb",
   "metadata": {},
   "source": [
    "# Sales of Child Car Seats\n",
    "\n",
    "A simulated data set containing sales of child car seats at 400\n",
    "different stores.\n",
    "\n",
    "- `Sales`: Unit sales (in thousands) at each location\n",
    "\n",
    "- `CompPrice`: Price charged by competitor at each location\n",
    "\n",
    "- `Income`: Community income level (in thousands of dollars)\n",
    "\n",
    "- `Advertising`: Local advertising budget for company at each location (in thousands of dollars)\n",
    "\n",
    "- `Population`: Population size in region (in thousands)\n",
    "\n",
    "- `Price`: Price company charges for car seats at each site\n",
    "\n",
    "- `ShelveLoc`: A factor with levels Bad, Good and Medium indicating the quality of the shelving location for the car seats at each site\n",
    "\n",
    "- `Age`: Average age of the local population\n",
    "\n",
    "- `Education`: Education level at each location\n",
    "\n",
    "- `Urban`: A factor with levels No and Yes to indicate whether the store is in an urban or rural location\n",
    "\n",
    "- `US`: A factor with levels No and Yes to indicate whether the store is in the US or not"
   ]
  },
  {
   "cell_type": "code",
   "execution_count": null,
   "id": "984643c9",
   "metadata": {
    "execution": {
     "iopub.execute_input": "2023-07-26T12:47:26.781289Z",
     "iopub.status.busy": "2023-07-26T12:47:26.780964Z",
     "iopub.status.idle": "2023-07-26T12:47:27.314225Z",
     "shell.execute_reply": "2023-07-26T12:47:27.313885Z"
    }
   },
   "outputs": [],
   "source": [
    "from ISLP import load_data\n",
    "Carseats = load_data('Carseats')\n",
    "Carseats.columns"
   ]
  },
  {
   "cell_type": "code",
   "execution_count": null,
   "id": "663f5f6a",
   "metadata": {
    "execution": {
     "iopub.execute_input": "2023-07-26T12:47:27.316055Z",
     "iopub.status.busy": "2023-07-26T12:47:27.315854Z",
     "iopub.status.idle": "2023-07-26T12:47:27.318176Z",
     "shell.execute_reply": "2023-07-26T12:47:27.317912Z"
    }
   },
   "outputs": [],
   "source": [
    "Carseats.shape"
   ]
  },
  {
   "cell_type": "code",
   "execution_count": null,
   "id": "386299b2",
   "metadata": {
    "execution": {
     "iopub.execute_input": "2023-07-26T12:47:27.319606Z",
     "iopub.status.busy": "2023-07-26T12:47:27.319504Z",
     "iopub.status.idle": "2023-07-26T12:47:27.321648Z",
     "shell.execute_reply": "2023-07-26T12:47:27.321403Z"
    }
   },
   "outputs": [],
   "source": [
    "Carseats.columns"
   ]
  },
  {
   "cell_type": "code",
   "execution_count": null,
   "id": "5c8c69c8",
   "metadata": {
    "execution": {
     "iopub.execute_input": "2023-07-26T12:47:27.323205Z",
     "iopub.status.busy": "2023-07-26T12:47:27.323091Z",
     "iopub.status.idle": "2023-07-26T12:47:27.331921Z",
     "shell.execute_reply": "2023-07-26T12:47:27.331627Z"
    }
   },
   "outputs": [],
   "source": [
    "Carseats.describe().iloc[:,:4]"
   ]
  }
 ],
 "metadata": {
  "jupytext": {
   "cell_metadata_filter": "-all",
   "formats": "source/datasets///ipynb,jupyterbook/datasets///md:myst,jupyterbook/datasets///ipynb",
   "main_language": "python"
  },
  "kernelspec": {
   "display_name": "python3",
   "language": "python",
   "name": "python3"
  },
  "language_info": {
   "codemirror_mode": {
    "name": "ipython",
    "version": 3
   },
   "file_extension": ".py",
   "mimetype": "text/x-python",
   "name": "python",
   "nbconvert_exporter": "python",
   "pygments_lexer": "ipython3",
   "version": "3.9.17"
  }
 },
 "nbformat": 4,
 "nbformat_minor": 5
}
