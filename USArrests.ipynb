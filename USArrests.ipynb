{
 "cells": [
  {
   "cell_type": "markdown",
   "id": "15ad7ee0",
   "metadata": {},
   "source": [
    "# Violent Crime Rates by US State\n",
    "\n",
    "This data set contains statistics, in arrests per 100,000\n",
    "residents for assault, murder, and rape in each of the 50 US\n",
    "states in 1973.  Also given is the percent of the population\n",
    "living in urban areas.\n",
    "\n",
    "\n",
    "- `Murder`: Murder arrests (per 100,000)  \n",
    "\n",
    "- `Assault`: Assault arrests (per 100,000) \n",
    "\n",
    "- `UrbanPop`: Percent urban population      \n",
    "\n",
    "- `Rape`: Rape arrests (per 100,000)    \n",
    "\n",
    "## Notes\n",
    "\n",
    "From the `R` base package. See help with command `?USArrests` (in `R`)"
   ]
  },
  {
   "cell_type": "code",
   "execution_count": null,
   "id": "feab45d4-ce30-4ea9-800c-bbe9e7c11f6d",
   "metadata": {
    "execution": {
     "iopub.execute_input": "2023-07-26T12:46:56.351520Z",
     "iopub.status.busy": "2023-07-26T12:46:56.350481Z",
     "iopub.status.idle": "2023-07-26T12:46:58.021100Z",
     "shell.execute_reply": "2023-07-26T12:46:58.019698Z"
    }
   },
   "outputs": [],
   "source": [
    "from statsmodels.datasets import get_rdataset\n",
    "USArrests = get_rdataset('USArrests').data"
   ]
  },
  {
   "cell_type": "code",
   "execution_count": null,
   "id": "bdfffad4-6ab1-45da-8d62-8a7c4326fb24",
   "metadata": {
    "execution": {
     "iopub.execute_input": "2023-07-26T12:46:58.027241Z",
     "iopub.status.busy": "2023-07-26T12:46:58.026857Z",
     "iopub.status.idle": "2023-07-26T12:46:58.034424Z",
     "shell.execute_reply": "2023-07-26T12:46:58.033781Z"
    }
   },
   "outputs": [],
   "source": [
    "USArrests.shape"
   ]
  },
  {
   "cell_type": "code",
   "execution_count": null,
   "id": "02f28a67-e8b9-4a17-ad0d-88672e1de26d",
   "metadata": {
    "execution": {
     "iopub.execute_input": "2023-07-26T12:46:58.038173Z",
     "iopub.status.busy": "2023-07-26T12:46:58.037943Z",
     "iopub.status.idle": "2023-07-26T12:46:58.041828Z",
     "shell.execute_reply": "2023-07-26T12:46:58.041345Z"
    }
   },
   "outputs": [],
   "source": [
    "USArrests.columns"
   ]
  },
  {
   "cell_type": "code",
   "execution_count": null,
   "id": "711db396-64d6-4fbd-9be4-bebe4117216f",
   "metadata": {
    "execution": {
     "iopub.execute_input": "2023-07-26T12:46:58.044543Z",
     "iopub.status.busy": "2023-07-26T12:46:58.044381Z",
     "iopub.status.idle": "2023-07-26T12:46:58.057559Z",
     "shell.execute_reply": "2023-07-26T12:46:58.057142Z"
    }
   },
   "outputs": [],
   "source": [
    "USArrests.describe()"
   ]
  }
 ],
 "metadata": {
  "jupytext": {
   "cell_metadata_filter": "-all",
   "formats": "source/datasets///ipynb,jupyterbook/datasets///md:myst,jupyterbook/datasets///ipynb",
   "main_language": "python"
  },
  "kernelspec": {
   "display_name": "python3",
   "language": "python",
   "name": "python3"
  },
  "language_info": {
   "codemirror_mode": {
    "name": "ipython",
    "version": 3
   },
   "file_extension": ".py",
   "mimetype": "text/x-python",
   "name": "python",
   "nbconvert_exporter": "python",
   "pygments_lexer": "ipython3",
   "version": "3.9.17"
  }
 },
 "nbformat": 4,
 "nbformat_minor": 5
}
