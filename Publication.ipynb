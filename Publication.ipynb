{
 "cells": [
  {
   "cell_type": "markdown",
   "id": "1ba53aaf",
   "metadata": {},
   "source": [
    "# Time-to-Publication Data\n",
    "\n",
    "Publication times for 244 clinical trials funded by the National\n",
    "Heart, Lung, and Blood Institute.\n",
    "     \n",
    "\n",
    "- `posres`: Did the trial produce a positive (significant) result?\n",
    "  1=Yes, 0=No.\n",
    "\n",
    "- `multi`: Did the trial involve multiple centers? 1=Yes, 0=No.\n",
    "\n",
    "- `clinend`: Did the trial focus on a clinical endpoint? 1=Yes, 0=No.\n",
    "\n",
    "- `mech`: Funding mechanism within National Institute of Health: a\n",
    "  qualitative variable.\n",
    "\n",
    "- `sampsize`: Sample size for the trial.\n",
    "\n",
    "- `budget`: Budget of the trial, in millions of dollars.\n",
    "\n",
    "- `impact`: Impact of the trial; this is related to the number of\n",
    "  publications.\n",
    "\n",
    "- `time`: Time to publication, in months.\n",
    "\n",
    "- `status`: Whether or not the trial was published at `time`:\n",
    "  1=Published, 0=Not yet published.\n",
    "\n",
    "## Source\n",
    "\n",
    "- Gordon, Taddei-Peters, Mascette, Antman, Kaufmann, and Lauer.\n",
    "Publication of trials funded by the National Heart, Lung, and\n",
    "Blood Institute.  New England Journal of Medicine,\n",
    "369(20):1926-1934, 2013."
   ]
  },
  {
   "cell_type": "code",
   "execution_count": null,
   "id": "61d7c2b3",
   "metadata": {
    "execution": {
     "iopub.execute_input": "2023-07-26T12:47:29.196850Z",
     "iopub.status.busy": "2023-07-26T12:47:29.196559Z",
     "iopub.status.idle": "2023-07-26T12:47:29.727827Z",
     "shell.execute_reply": "2023-07-26T12:47:29.727421Z"
    }
   },
   "outputs": [],
   "source": [
    "from ISLP import load_data\n",
    "Publication = load_data('Publication')\n",
    "Publication.columns"
   ]
  },
  {
   "cell_type": "code",
   "execution_count": null,
   "id": "4d72460d",
   "metadata": {
    "execution": {
     "iopub.execute_input": "2023-07-26T12:47:29.729844Z",
     "iopub.status.busy": "2023-07-26T12:47:29.729686Z",
     "iopub.status.idle": "2023-07-26T12:47:29.732275Z",
     "shell.execute_reply": "2023-07-26T12:47:29.732008Z"
    }
   },
   "outputs": [],
   "source": [
    "Publication.shape"
   ]
  },
  {
   "cell_type": "code",
   "execution_count": null,
   "id": "fd34224c",
   "metadata": {
    "execution": {
     "iopub.execute_input": "2023-07-26T12:47:29.734028Z",
     "iopub.status.busy": "2023-07-26T12:47:29.733885Z",
     "iopub.status.idle": "2023-07-26T12:47:29.736365Z",
     "shell.execute_reply": "2023-07-26T12:47:29.736014Z"
    }
   },
   "outputs": [],
   "source": [
    "Publication.columns"
   ]
  },
  {
   "cell_type": "code",
   "execution_count": null,
   "id": "51bfb0aa",
   "metadata": {
    "execution": {
     "iopub.execute_input": "2023-07-26T12:47:29.738169Z",
     "iopub.status.busy": "2023-07-26T12:47:29.738046Z",
     "iopub.status.idle": "2023-07-26T12:47:29.747027Z",
     "shell.execute_reply": "2023-07-26T12:47:29.746722Z"
    }
   },
   "outputs": [],
   "source": [
    "Publication.describe().iloc[:,:4]"
   ]
  }
 ],
 "metadata": {
  "jupytext": {
   "cell_metadata_filter": "-all",
   "formats": "source/datasets///ipynb,jupyterbook/datasets///md:myst,jupyterbook/datasets///ipynb",
   "main_language": "python"
  },
  "kernelspec": {
   "display_name": "python3",
   "language": "python",
   "name": "python3"
  },
  "language_info": {
   "codemirror_mode": {
    "name": "ipython",
    "version": 3
   },
   "file_extension": ".py",
   "mimetype": "text/x-python",
   "name": "python",
   "nbconvert_exporter": "python",
   "pygments_lexer": "ipython3",
   "version": "3.9.17"
  }
 },
 "nbformat": 4,
 "nbformat_minor": 5
}
