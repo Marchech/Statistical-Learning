{
 "cells": [
  {
   "cell_type": "markdown",
   "id": "4e0f3d56",
   "metadata": {},
   "source": [
    "# Credit Card Balance Data\n",
    "\n",
    "A simulated data set containing information on 400 customers.\n",
    "\n",
    "- `Income`: Income in $1,000’s\n",
    "\n",
    "- `Limit`: Credit limit\n",
    "\n",
    "- `Rating`: Credit rating\n",
    "\n",
    "- `Cards`: Number of credit cards\n",
    "\n",
    "- `Age`: Age in years\n",
    "\n",
    "- `Education`: Education in years\n",
    "\n",
    "- `Own`: A factor with levels No and Yes indicating whether the individual owns a home\n",
    "\n",
    "- `Student`: A factor with levels No and Yes indicating whether the individual is a student\n",
    "\n",
    "- `Married`: A factor with levels No and Yes indicating whether the individual is married\n",
    "\n",
    "- `Region`: A factor with levels East, South, and West indicating the individual’s geographical location\n",
    "\n",
    "- `Balance`: Average credit card balance in $\n",
    "\n",
    "\n",
    "## Source\n",
    "\n",
    "Simulated data. Many thanks to Albert Kim for helpful suggestions,\n",
    "and for supplying a draft of the man documentation page on Oct 19,\n",
    "2017."
   ]
  },
  {
   "cell_type": "code",
   "execution_count": null,
   "id": "c4895446",
   "metadata": {
    "execution": {
     "iopub.execute_input": "2023-07-26T12:47:39.024610Z",
     "iopub.status.busy": "2023-07-26T12:47:39.024341Z",
     "iopub.status.idle": "2023-07-26T12:47:39.593395Z",
     "shell.execute_reply": "2023-07-26T12:47:39.593133Z"
    }
   },
   "outputs": [],
   "source": [
    "from ISLP import load_data\n",
    "Credit = load_data('Credit')\n",
    "Credit.columns"
   ]
  },
  {
   "cell_type": "code",
   "execution_count": null,
   "id": "c738c66b",
   "metadata": {
    "execution": {
     "iopub.execute_input": "2023-07-26T12:47:39.595074Z",
     "iopub.status.busy": "2023-07-26T12:47:39.594871Z",
     "iopub.status.idle": "2023-07-26T12:47:39.596893Z",
     "shell.execute_reply": "2023-07-26T12:47:39.596667Z"
    }
   },
   "outputs": [],
   "source": [
    "Credit.shape"
   ]
  },
  {
   "cell_type": "code",
   "execution_count": null,
   "id": "d612f5a7",
   "metadata": {
    "execution": {
     "iopub.execute_input": "2023-07-26T12:47:39.598266Z",
     "iopub.status.busy": "2023-07-26T12:47:39.598173Z",
     "iopub.status.idle": "2023-07-26T12:47:39.600134Z",
     "shell.execute_reply": "2023-07-26T12:47:39.599913Z"
    }
   },
   "outputs": [],
   "source": [
    "Credit.columns"
   ]
  },
  {
   "cell_type": "code",
   "execution_count": null,
   "id": "45633b1a",
   "metadata": {
    "execution": {
     "iopub.execute_input": "2023-07-26T12:47:39.601442Z",
     "iopub.status.busy": "2023-07-26T12:47:39.601344Z",
     "iopub.status.idle": "2023-07-26T12:47:39.609927Z",
     "shell.execute_reply": "2023-07-26T12:47:39.609656Z"
    }
   },
   "outputs": [],
   "source": [
    "Credit.describe().iloc[:,:4]"
   ]
  }
 ],
 "metadata": {
  "jupytext": {
   "cell_metadata_filter": "-all",
   "formats": "source/datasets///ipynb,jupyterbook/datasets///md:myst,jupyterbook/datasets///ipynb",
   "main_language": "python"
  },
  "kernelspec": {
   "display_name": "python3",
   "language": "python",
   "name": "python3"
  },
  "language_info": {
   "codemirror_mode": {
    "name": "ipython",
    "version": 3
   },
   "file_extension": ".py",
   "mimetype": "text/x-python",
   "name": "python",
   "nbconvert_exporter": "python",
   "pygments_lexer": "ipython3",
   "version": "3.9.17"
  }
 },
 "nbformat": 4,
 "nbformat_minor": 5
}
