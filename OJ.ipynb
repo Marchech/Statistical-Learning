{
 "cells": [
  {
   "cell_type": "markdown",
   "id": "bbab1a1a",
   "metadata": {},
   "source": [
    "# Orange Juice Data\n",
    "\n",
    "The data contains 1070 purchases where the customer either\n",
    "purchased Citrus Hill or Minute Maid Orange Juice. A number of\n",
    "characteristics of the customer and product are recorded.\n",
    "\n",
    "     \n",
    "- `Purchase`: A factor with levels 'CH' and 'MM' indicating whether\n",
    "the customer purchased Citrus Hill or Minute Maid Orange\n",
    "Juice\n",
    "\n",
    "- `WeekofPurchase`: Week of purchase\n",
    "\n",
    "- `StoreID`: Store ID\n",
    "\n",
    "- `PriceCH`: Price charged for CH\n",
    "\n",
    "- `PriceMM`: Price charged for MM\n",
    "\n",
    "- `DiscCH`: Discount offered for CH\n",
    "\n",
    "- `DiscMM`: Discount offered for MM\n",
    "\n",
    "- `SpecialCH`: Indicator of special on CH\n",
    "\n",
    "- `SpecialMM`: Indicator of special on MM\n",
    "\n",
    "- `LoyalCH`: Customer brand loyalty for CH\n",
    "\n",
    "- `SalePriceMM`: Sale price for MM\n",
    "\n",
    "- `SalePriceCH`: Sale price for CH\n",
    "\n",
    "- `PriceDiff`: Sale price of MM less sale price of CH\n",
    "\n",
    "- `Store7`: A factor with levels 'No' and 'Yes' indicating whether\n",
    "the sale is at Store 7\n",
    "\n",
    "- `PctDiscMM`: Percentage discount for MM\n",
    "\n",
    "- `PctDiscCH`: Percentage discount for CH\n",
    "\n",
    "- `ListPriceDiff`: List price of MM less list price of CH\n",
    "\n",
    "- `STORE`: Which of 5 possible stores the sale occured at\n",
    "\n",
    "## Source\n",
    "\n",
    "Stine, Robert A., Foster, Dean P., Waterman, Richard P. Business\n",
    "Analysis Using Regression (1998). Published by Springer."
   ]
  },
  {
   "cell_type": "code",
   "execution_count": null,
   "id": "609742da",
   "metadata": {
    "execution": {
     "iopub.execute_input": "2023-07-26T12:47:14.553008Z",
     "iopub.status.busy": "2023-07-26T12:47:14.551694Z",
     "iopub.status.idle": "2023-07-26T12:47:15.102658Z",
     "shell.execute_reply": "2023-07-26T12:47:15.102334Z"
    }
   },
   "outputs": [],
   "source": [
    "from ISLP import load_data\n",
    "OJ = load_data('OJ')\n",
    "OJ.columns"
   ]
  },
  {
   "cell_type": "code",
   "execution_count": null,
   "id": "6f195dcd",
   "metadata": {
    "execution": {
     "iopub.execute_input": "2023-07-26T12:47:15.104419Z",
     "iopub.status.busy": "2023-07-26T12:47:15.104301Z",
     "iopub.status.idle": "2023-07-26T12:47:15.106415Z",
     "shell.execute_reply": "2023-07-26T12:47:15.106177Z"
    }
   },
   "outputs": [],
   "source": [
    "OJ.shape"
   ]
  },
  {
   "cell_type": "code",
   "execution_count": null,
   "id": "aaafb83b",
   "metadata": {
    "execution": {
     "iopub.execute_input": "2023-07-26T12:47:15.107821Z",
     "iopub.status.busy": "2023-07-26T12:47:15.107723Z",
     "iopub.status.idle": "2023-07-26T12:47:15.109747Z",
     "shell.execute_reply": "2023-07-26T12:47:15.109486Z"
    }
   },
   "outputs": [],
   "source": [
    "OJ.columns"
   ]
  },
  {
   "cell_type": "code",
   "execution_count": null,
   "id": "774dfa86",
   "metadata": {
    "execution": {
     "iopub.execute_input": "2023-07-26T12:47:15.111066Z",
     "iopub.status.busy": "2023-07-26T12:47:15.110974Z",
     "iopub.status.idle": "2023-07-26T12:47:15.123225Z",
     "shell.execute_reply": "2023-07-26T12:47:15.122965Z"
    }
   },
   "outputs": [],
   "source": [
    "OJ.describe().iloc[:,:4]"
   ]
  }
 ],
 "metadata": {
  "jupytext": {
   "cell_metadata_filter": "-all",
   "formats": "source/datasets///ipynb,jupyterbook/datasets///md:myst,jupyterbook/datasets///ipynb",
   "main_language": "python"
  },
  "kernelspec": {
   "display_name": "python3",
   "language": "python",
   "name": "python3"
  },
  "language_info": {
   "codemirror_mode": {
    "name": "ipython",
    "version": 3
   },
   "file_extension": ".py",
   "mimetype": "text/x-python",
   "name": "python",
   "nbconvert_exporter": "python",
   "pygments_lexer": "ipython3",
   "version": "3.9.17"
  }
 },
 "nbformat": 4,
 "nbformat_minor": 5
}
