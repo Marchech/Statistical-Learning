{
 "cells": [
  {
   "cell_type": "markdown",
   "id": "1afba2f2",
   "metadata": {},
   "source": [
    "# Auto Data\n",
    "\n",
    "Gas mileage, horsepower, and other information for 392 vehicles.\n",
    "\n",
    "A data frame with 392 observations on the following 9 variables.\n",
    "\n",
    "- `mpg`: miles per gallon\n",
    "\n",
    "- `cylinders`: Number of cylinders between 4 and 8\n",
    "\n",
    "- `displacement`: Engine displacement (cu. inches)\n",
    "\n",
    "- `horsepower`: Engine horsepower\n",
    "\n",
    "- `weight`: Vehicle weight (lbs.)\n",
    "\n",
    "- `acceleration`: Time to accelerate from 0 to 60 mph (sec.)\n",
    "\n",
    "- `year`: Model year (modulo 100)\n",
    "\n",
    "- `origin`: Origin of car (1. American, 2. European, 3. Japanese)\n",
    "\n",
    "- `name`: Vehicle name\n",
    "\n",
    "\n",
    "## Notes\n",
    "\n",
    "This dataset was taken from the StatLib library which is maintained at\n",
    "Carnegie Mellon University. The dataset was used in the 1983\n",
    "American Statistical Association Exposition. The original dataset\n",
    "has 397 observations, of which 5 have missing values for the\n",
    "variable `horsepower`. These rows are removed here. The original\n",
    "dataset is available at [the book's website](https://www.statlearning.com)."
   ]
  },
  {
   "cell_type": "code",
   "execution_count": null,
   "id": "182ea1d1",
   "metadata": {
    "execution": {
     "iopub.execute_input": "2023-07-26T12:47:43.883548Z",
     "iopub.status.busy": "2023-07-26T12:47:43.883261Z",
     "iopub.status.idle": "2023-07-26T12:47:44.433075Z",
     "shell.execute_reply": "2023-07-26T12:47:44.432801Z"
    }
   },
   "outputs": [],
   "source": [
    "from ISLP import load_data\n",
    "Auto = load_data('Auto')\n",
    "Auto.columns"
   ]
  },
  {
   "cell_type": "code",
   "execution_count": null,
   "id": "979abd7e",
   "metadata": {
    "execution": {
     "iopub.execute_input": "2023-07-26T12:47:44.434662Z",
     "iopub.status.busy": "2023-07-26T12:47:44.434558Z",
     "iopub.status.idle": "2023-07-26T12:47:44.436577Z",
     "shell.execute_reply": "2023-07-26T12:47:44.436322Z"
    }
   },
   "outputs": [],
   "source": [
    "Auto.shape"
   ]
  },
  {
   "cell_type": "code",
   "execution_count": null,
   "id": "7444c0f0",
   "metadata": {
    "execution": {
     "iopub.execute_input": "2023-07-26T12:47:44.438047Z",
     "iopub.status.busy": "2023-07-26T12:47:44.437943Z",
     "iopub.status.idle": "2023-07-26T12:47:44.439951Z",
     "shell.execute_reply": "2023-07-26T12:47:44.439712Z"
    }
   },
   "outputs": [],
   "source": [
    "Auto.columns"
   ]
  },
  {
   "cell_type": "code",
   "execution_count": null,
   "id": "59b6e919",
   "metadata": {
    "execution": {
     "iopub.execute_input": "2023-07-26T12:47:44.441257Z",
     "iopub.status.busy": "2023-07-26T12:47:44.441161Z",
     "iopub.status.idle": "2023-07-26T12:47:44.449658Z",
     "shell.execute_reply": "2023-07-26T12:47:44.449426Z"
    }
   },
   "outputs": [],
   "source": [
    "Auto.describe().iloc[:,:4]"
   ]
  },
  {
   "cell_type": "markdown",
   "id": "c20359a4",
   "metadata": {},
   "source": [
    "# Bike sharing data\n",
    "\n",
    "\n",
    "This data set contains the hourly and daily count of rental bikes\n",
    "between years 2011 and 2012 in Capital bikeshare system, along\n",
    "with weather and seasonal information.\n",
    "     \n",
    "- `season`: Season of the year, coded as Winter=1, Spring=2,\n",
    "          Summer=3, Fall=4.\n",
    "\n",
    "- `mnth`: Month of the year, coded as a factor.\n",
    "\n",
    "- `day`: Day of the year, from 1 to 365\n",
    "\n",
    "- `hr`: Hour of the day, coded as a factor from 0 to 23.\n",
    "\n",
    "- `holiday`: Is it a holiday? Yes=1, No=0.\n",
    "\n",
    "- `weekday`: Day of the week, coded from 0 to 6, where Sunday=0,\n",
    "          Monday=1, Tuesday=2, etc.\n",
    "\n",
    "- `workingday`: Is it a work day? Yes=1, No=0.\n",
    "\n",
    "- `weathersit`: Weather, coded as a factor.\n",
    "\n",
    "- `temp`: Normalized temperature in Celsius. The values are derived\n",
    "          via `(t-t_min)/(t_max-t_min)`, `t_min`=-8, `t_max`=+39.\n",
    "\n",
    "- `atemp`: Normalized feeling temperature in Celsius. The values are\n",
    "          derived via `(t-t_min)/(t_max-t_min)`, `t_min`=-16, `t_max`=+50.\n",
    "\n",
    "- `hum`: Normalized humidity. The values are divided to 100 (max).\n",
    "\n",
    "- `windspeed`: Normalized wind speed. The values are divided by 67\n",
    "          (max).\n",
    "\n",
    "- `casual`: Number of casual bikers.\n",
    "\n",
    "- `registered`: Number of registered bikers.\n",
    "\n",
    "- `bikers`: Total number of bikers.\n",
    "\n",
    "## Source\n",
    "\n",
    "The [UCI Machine Learning Repository](https://archive.ics.uci.edu/ml/datasets/bike+sharing+dataset)."
   ]
  },
  {
   "cell_type": "code",
   "execution_count": null,
   "id": "bcdb89b6",
   "metadata": {
    "execution": {
     "iopub.execute_input": "2023-07-26T12:47:19.462730Z",
     "iopub.status.busy": "2023-07-26T12:47:19.461535Z",
     "iopub.status.idle": "2023-07-26T12:47:20.022610Z",
     "shell.execute_reply": "2023-07-26T12:47:20.022326Z"
    }
   },
   "outputs": [],
   "source": [
    "from ISLP import load_data\n",
    "Bikeshare = load_data('Bikeshare')\n",
    "Bikeshare.columns"
   ]
  },
  {
   "cell_type": "code",
   "execution_count": null,
   "id": "72075fb0",
   "metadata": {
    "execution": {
     "iopub.execute_input": "2023-07-26T12:47:20.024144Z",
     "iopub.status.busy": "2023-07-26T12:47:20.024034Z",
     "iopub.status.idle": "2023-07-26T12:47:20.026016Z",
     "shell.execute_reply": "2023-07-26T12:47:20.025777Z"
    }
   },
   "outputs": [],
   "source": [
    "Bikeshare.shape"
   ]
  },
  {
   "cell_type": "code",
   "execution_count": null,
   "id": "45396d69",
   "metadata": {
    "execution": {
     "iopub.execute_input": "2023-07-26T12:47:20.027480Z",
     "iopub.status.busy": "2023-07-26T12:47:20.027378Z",
     "iopub.status.idle": "2023-07-26T12:47:20.029427Z",
     "shell.execute_reply": "2023-07-26T12:47:20.029199Z"
    }
   },
   "outputs": [],
   "source": [
    "Bikeshare.columns"
   ]
  },
  {
   "cell_type": "code",
   "execution_count": null,
   "id": "26c24d9a",
   "metadata": {
    "execution": {
     "iopub.execute_input": "2023-07-26T12:47:20.030734Z",
     "iopub.status.busy": "2023-07-26T12:47:20.030638Z",
     "iopub.status.idle": "2023-07-26T12:47:20.042031Z",
     "shell.execute_reply": "2023-07-26T12:47:20.041787Z"
    }
   },
   "outputs": [],
   "source": [
    "Bikeshare.describe().iloc[:,:4]"
   ]
  },
  {
   "cell_type": "markdown",
   "id": "a91131b2",
   "metadata": {},
   "source": [
    "# Boston Data\n",
    "\n",
    "A data set containing housing values in 506 suburbs of Boston.\n",
    "     \n",
    "- `crim`: per capita crime rate by town.\n",
    "\n",
    "- `zn`: proportion of residential land zoned for lots over 25,000\n",
    "          sq.ft.\n",
    "\n",
    "- `indus`: proportion of non-retail business acres per town.\n",
    "\n",
    "- `chas`: Charles River dummy variable (= 1 if tract bounds river; 0\n",
    "          otherwise).\n",
    "\n",
    "- `nox`: nitrogen oxides concentration (parts per 10 million).\n",
    "\n",
    "- `rm`: average number of rooms per dwelling.\n",
    "\n",
    "- `age`: proportion of owner-occupied units built prior to 1940.\n",
    "\n",
    "- `dis`: weighted mean of distances to five Boston employment\n",
    "          centres.\n",
    "\n",
    "- `rad`: index of accessibility to radial highways.\n",
    "\n",
    "- `tax`: full-value property-tax rate per $10,000.\n",
    "\n",
    "- `ptratio`: pupil-teacher ratio by town.\n",
    "\n",
    "- `lstat`: lower status of the population (percent).\n",
    "\n",
    "- `medv`: median value of owner-occupied homes in $1000s.\n",
    "\n",
    "## Notes \n",
    "\n",
    "This dataset was obtained from, and is slightly modified from, the\n",
    "Boston dataset that is part of the `R` library `MASS`.  References are\n",
    "available in the MASS library."
   ]
  },
  {
   "cell_type": "code",
   "execution_count": null,
   "id": "b8bb96f0",
   "metadata": {
    "execution": {
     "iopub.execute_input": "2023-07-26T12:47:31.625524Z",
     "iopub.status.busy": "2023-07-26T12:47:31.625196Z",
     "iopub.status.idle": "2023-07-26T12:47:32.177553Z",
     "shell.execute_reply": "2023-07-26T12:47:32.177240Z"
    }
   },
   "outputs": [],
   "source": [
    "from ISLP import load_data\n",
    "Boston = load_data('Boston')\n",
    "Boston.columns"
   ]
  },
  {
   "cell_type": "code",
   "execution_count": null,
   "id": "ab4b03f8",
   "metadata": {
    "execution": {
     "iopub.execute_input": "2023-07-26T12:47:32.179272Z",
     "iopub.status.busy": "2023-07-26T12:47:32.179157Z",
     "iopub.status.idle": "2023-07-26T12:47:32.181230Z",
     "shell.execute_reply": "2023-07-26T12:47:32.180964Z"
    }
   },
   "outputs": [],
   "source": [
    "Boston.shape"
   ]
  },
  {
   "cell_type": "code",
   "execution_count": null,
   "id": "74890e1f",
   "metadata": {
    "execution": {
     "iopub.execute_input": "2023-07-26T12:47:32.182653Z",
     "iopub.status.busy": "2023-07-26T12:47:32.182557Z",
     "iopub.status.idle": "2023-07-26T12:47:32.184501Z",
     "shell.execute_reply": "2023-07-26T12:47:32.184276Z"
    }
   },
   "outputs": [],
   "source": [
    "Boston.columns"
   ]
  },
  {
   "cell_type": "code",
   "execution_count": null,
   "id": "90ecf46f",
   "metadata": {
    "execution": {
     "iopub.execute_input": "2023-07-26T12:47:32.185826Z",
     "iopub.status.busy": "2023-07-26T12:47:32.185735Z",
     "iopub.status.idle": "2023-07-26T12:47:32.198310Z",
     "shell.execute_reply": "2023-07-26T12:47:32.198074Z"
    }
   },
   "outputs": [],
   "source": [
    "Boston.describe()"
   ]
  },
  {
   "cell_type": "markdown",
   "id": "d96d8560",
   "metadata": {},
   "source": [
    "# Brain Cancer Data\n",
    "\n",
    "A data set consisting of survival times for patients diagnosed\n",
    "with brain cancer.\n",
    "     \n",
    "- `sex`: Factor with levels \"Female\" and \"Male\"\n",
    "\n",
    "- `diagnosis`: Factor with levels \"Meningioma\", \"LG glioma\", \"HG glioma\", and \"Other\".\n",
    "\n",
    "- `loc`: Location factor with levels \"Infratentorial\" and \"Supratentorial\".\n",
    "\n",
    "- `ki`: Karnofsky index.\n",
    "\n",
    "- `gtv`: Gross tumor volume, in cubic centimeters.\n",
    "\n",
    "- `stereo`: Stereotactic method factor with levels \"SRS\" and \"SRT\".\n",
    "\n",
    "- `status`: Whether the patient is still alive at the end of the study: 0=Yes, 1=No.\n",
    "\n",
    "- `time`: Survival time, in months\n",
    "\n",
    "## Source\n",
    "\n",
    "- I. Selingerova, H. Dolezelova, I. Horova, S. Katina, and J.\n",
    "     Zelinka. Survival of patients with primary brain tumors:\n",
    "     Comparison of two statistical approaches. PLoS One,\n",
    "     11(2):e0148733, 2016.\n",
    "     [https://www.ncbi.nlm.nih.gov/pmc/articles/PMC4749663/](https://www.ncbi.nlm.nih.gov/pmc/articles/PMC4749663/)"
   ]
  },
  {
   "cell_type": "code",
   "execution_count": null,
   "id": "519fa8cf",
   "metadata": {
    "execution": {
     "iopub.execute_input": "2023-07-26T12:47:09.619445Z",
     "iopub.status.busy": "2023-07-26T12:47:09.618768Z",
     "iopub.status.idle": "2023-07-26T12:47:10.149955Z",
     "shell.execute_reply": "2023-07-26T12:47:10.149508Z"
    }
   },
   "outputs": [],
   "source": [
    "from ISLP import load_data\n",
    "BrainCancer = load_data('BrainCancer')\n",
    "BrainCancer.columns"
   ]
  },
  {
   "cell_type": "code",
   "execution_count": null,
   "id": "ac7f1920",
   "metadata": {
    "execution": {
     "iopub.execute_input": "2023-07-26T12:47:10.151658Z",
     "iopub.status.busy": "2023-07-26T12:47:10.151541Z",
     "iopub.status.idle": "2023-07-26T12:47:10.153944Z",
     "shell.execute_reply": "2023-07-26T12:47:10.153658Z"
    }
   },
   "outputs": [],
   "source": [
    "BrainCancer.shape"
   ]
  },
  {
   "cell_type": "code",
   "execution_count": null,
   "id": "64b3177f",
   "metadata": {
    "execution": {
     "iopub.execute_input": "2023-07-26T12:47:10.155433Z",
     "iopub.status.busy": "2023-07-26T12:47:10.155323Z",
     "iopub.status.idle": "2023-07-26T12:47:10.157819Z",
     "shell.execute_reply": "2023-07-26T12:47:10.157458Z"
    }
   },
   "outputs": [],
   "source": [
    "BrainCancer.columns"
   ]
  },
  {
   "cell_type": "code",
   "execution_count": null,
   "id": "8132496d",
   "metadata": {
    "execution": {
     "iopub.execute_input": "2023-07-26T12:47:10.159542Z",
     "iopub.status.busy": "2023-07-26T12:47:10.159420Z",
     "iopub.status.idle": "2023-07-26T12:47:10.166890Z",
     "shell.execute_reply": "2023-07-26T12:47:10.166610Z"
    }
   },
   "outputs": [],
   "source": [
    "BrainCancer.describe()"
   ]
  },
  {
   "cell_type": "code",
   "execution_count": null,
   "id": "ed04719d",
   "metadata": {
    "execution": {
     "iopub.execute_input": "2023-07-26T12:47:10.168420Z",
     "iopub.status.busy": "2023-07-26T12:47:10.168324Z",
     "iopub.status.idle": "2023-07-26T12:47:10.171157Z",
     "shell.execute_reply": "2023-07-26T12:47:10.170862Z"
    }
   },
   "outputs": [],
   "source": [
    "BrainCancer['diagnosis'].value_counts()"
   ]
  },
  {
   "cell_type": "markdown",
   "id": "ca0bb7f1",
   "metadata": {},
   "source": [
    "# Caravan\n",
    "\n",
    "The data contains 5822 real customer records. Each record consists of 86 variables, containing\n",
    "sociodemographic data (variables 1-43) and product ownership (variables 44-86). The sociodemographic data is derived from zip codes. All customers living in areas with the same zip code have\n",
    "the same sociodemographic attributes. Variable 86 (Purchase) indicates whether the customer purchased a caravan insurance policy. Further information on the individual variables can be obtained\n",
    "at [http://www.liacs.nl/~putten/library/cc2000/data.html](http://www.liacs.nl/~putten/library/cc2000/data.html)\n",
    "\n",
    "## References\n",
    "\n",
    "- P. van der Putten and M. van Someren (eds) . CoIL Challenge\n",
    "  2000: The Insurance Company Case.  Published by Sentient Machine\n",
    "  Research, Amsterdam. Also a Leiden Institute of Advanced Computer\n",
    "  Science Technical Report 2000-09. June 22, 2000. See\n",
    "  [http://www.liacs.nl/~putten/library/cc2000/](http://www.liacs.nl/~putten/library/cc2000/)\n",
    "\n",
    "-  P. van der Putten and M. van Someren. A Bias-Variance Analysis of a Real World Learning Problem: The CoIL Challenge 2000. Machine Learning, October 2004, vol. 57, iss. 1-2, pp. 177-195, Kluwer Academic Publishers"
   ]
  },
  {
   "cell_type": "code",
   "execution_count": null,
   "id": "1f9a6aaa",
   "metadata": {
    "execution": {
     "iopub.execute_input": "2023-07-26T12:47:12.041705Z",
     "iopub.status.busy": "2023-07-26T12:47:12.040979Z",
     "iopub.status.idle": "2023-07-26T12:47:12.637566Z",
     "shell.execute_reply": "2023-07-26T12:47:12.637297Z"
    }
   },
   "outputs": [],
   "source": [
    "from ISLP import load_data\n",
    "Caravan = load_data('Caravan')\n",
    "Caravan.columns"
   ]
  },
  {
   "cell_type": "code",
   "execution_count": null,
   "id": "88755969",
   "metadata": {
    "execution": {
     "iopub.execute_input": "2023-07-26T12:47:12.639146Z",
     "iopub.status.busy": "2023-07-26T12:47:12.639031Z",
     "iopub.status.idle": "2023-07-26T12:47:12.640881Z",
     "shell.execute_reply": "2023-07-26T12:47:12.640666Z"
    }
   },
   "outputs": [],
   "source": [
    "Caravan.shape"
   ]
  },
  {
   "cell_type": "code",
   "execution_count": null,
   "id": "52ea2641",
   "metadata": {
    "execution": {
     "iopub.execute_input": "2023-07-26T12:47:12.642281Z",
     "iopub.status.busy": "2023-07-26T12:47:12.642186Z",
     "iopub.status.idle": "2023-07-26T12:47:12.644243Z",
     "shell.execute_reply": "2023-07-26T12:47:12.644020Z"
    }
   },
   "outputs": [],
   "source": [
    "Caravan.columns[:20]"
   ]
  },
  {
   "cell_type": "markdown",
   "id": "c24940cb",
   "metadata": {},
   "source": [
    "# Sales of Child Car Seats\n",
    "\n",
    "A simulated data set containing sales of child car seats at 400\n",
    "different stores.\n",
    "\n",
    "- `Sales`: Unit sales (in thousands) at each location\n",
    "\n",
    "- `CompPrice`: Price charged by competitor at each location\n",
    "\n",
    "- `Income`: Community income level (in thousands of dollars)\n",
    "\n",
    "- `Advertising`: Local advertising budget for company at each location (in thousands of dollars)\n",
    "\n",
    "- `Population`: Population size in region (in thousands)\n",
    "\n",
    "- `Price`: Price company charges for car seats at each site\n",
    "\n",
    "- `ShelveLoc`: A factor with levels Bad, Good and Medium indicating the quality of the shelving location for the car seats at each site\n",
    "\n",
    "- `Age`: Average age of the local population\n",
    "\n",
    "- `Education`: Education level at each location\n",
    "\n",
    "- `Urban`: A factor with levels No and Yes to indicate whether the store is in an urban or rural location\n",
    "\n",
    "- `US`: A factor with levels No and Yes to indicate whether the store is in the US or not"
   ]
  },
  {
   "cell_type": "code",
   "execution_count": null,
   "id": "984643c9",
   "metadata": {
    "execution": {
     "iopub.execute_input": "2023-07-26T12:47:26.781289Z",
     "iopub.status.busy": "2023-07-26T12:47:26.780964Z",
     "iopub.status.idle": "2023-07-26T12:47:27.314225Z",
     "shell.execute_reply": "2023-07-26T12:47:27.313885Z"
    }
   },
   "outputs": [],
   "source": [
    "from ISLP import load_data\n",
    "Carseats = load_data('Carseats')\n",
    "Carseats.columns"
   ]
  },
  {
   "cell_type": "code",
   "execution_count": null,
   "id": "663f5f6a",
   "metadata": {
    "execution": {
     "iopub.execute_input": "2023-07-26T12:47:27.316055Z",
     "iopub.status.busy": "2023-07-26T12:47:27.315854Z",
     "iopub.status.idle": "2023-07-26T12:47:27.318176Z",
     "shell.execute_reply": "2023-07-26T12:47:27.317912Z"
    }
   },
   "outputs": [],
   "source": [
    "Carseats.shape"
   ]
  },
  {
   "cell_type": "code",
   "execution_count": null,
   "id": "386299b2",
   "metadata": {
    "execution": {
     "iopub.execute_input": "2023-07-26T12:47:27.319606Z",
     "iopub.status.busy": "2023-07-26T12:47:27.319504Z",
     "iopub.status.idle": "2023-07-26T12:47:27.321648Z",
     "shell.execute_reply": "2023-07-26T12:47:27.321403Z"
    }
   },
   "outputs": [],
   "source": [
    "Carseats.columns"
   ]
  },
  {
   "cell_type": "code",
   "execution_count": null,
   "id": "5c8c69c8",
   "metadata": {
    "execution": {
     "iopub.execute_input": "2023-07-26T12:47:27.323205Z",
     "iopub.status.busy": "2023-07-26T12:47:27.323091Z",
     "iopub.status.idle": "2023-07-26T12:47:27.331921Z",
     "shell.execute_reply": "2023-07-26T12:47:27.331627Z"
    }
   },
   "outputs": [],
   "source": [
    "Carseats.describe().iloc[:,:4]"
   ]
  },
  {
   "cell_type": "markdown",
   "id": "c076f1cc",
   "metadata": {},
   "source": [
    "# U.S. News and World Report's College Data\n",
    "\n",
    "Statistics for a large number of US Colleges from the 1995 issue\n",
    "of US News and World Report.\n",
    "\n",
    "- `Private`: A factor with levels No and Yes indicating private or public university\n",
    "\n",
    "- `Apps`: Number of applications received\n",
    "\n",
    "- `Accept`: Number of applications accepted\n",
    "\n",
    "- `Enroll`: Number of new students enrolled\n",
    "\n",
    "- `Top10perc`: Pct. new students from top 10% of H.S. class\n",
    "\n",
    "- `Top25perc`: Pct. new students from top 25% of H.S. class\n",
    "\n",
    "- `F.Undergrad`: Number of fulltime undergraduates\n",
    "\n",
    "- `P.Undergrad`: Number of parttime undergraduates\n",
    "\n",
    "- `Outstate`: Out-of-state tuition\n",
    "\n",
    "- `Room.Board`: Room and board costs\n",
    "\n",
    "- `Books`: Estimated book costs\n",
    "\n",
    "- `Personal`: Estimated personal spending\n",
    "\n",
    "- `PhD`: Pct. of faculty with Ph.D.��s\n",
    "\n",
    "- `Terminal`: Pct. of faculty with terminal degree\n",
    "\n",
    "- `S.F.Ratio`: Student/faculty ratio\n",
    "\n",
    "- `perc.alumni`: Pct. alumni who donate\n",
    "\n",
    "- `Expend`: Instructional expenditure per student\n",
    "\n",
    "- `Grad.Rate`: Graduation rate\n",
    "\n",
    "## Source\n",
    "\n",
    "This dataset was taken from the StatLib library which is\n",
    "maintained at Carnegie Mellon University. The dataset was used in\n",
    "the ASA Statistical Graphics Section's 1995 Data Analysis\n",
    "Exposition."
   ]
  },
  {
   "cell_type": "code",
   "execution_count": null,
   "id": "680ceb3e",
   "metadata": {
    "execution": {
     "iopub.execute_input": "2023-07-26T12:47:17.006699Z",
     "iopub.status.busy": "2023-07-26T12:47:17.006226Z",
     "iopub.status.idle": "2023-07-26T12:47:17.561114Z",
     "shell.execute_reply": "2023-07-26T12:47:17.560739Z"
    }
   },
   "outputs": [],
   "source": [
    "from ISLP import load_data\n",
    "College = load_data('College')\n",
    "College.columns"
   ]
  },
  {
   "cell_type": "code",
   "execution_count": null,
   "id": "ccdf3e4f",
   "metadata": {
    "execution": {
     "iopub.execute_input": "2023-07-26T12:47:17.563075Z",
     "iopub.status.busy": "2023-07-26T12:47:17.562947Z",
     "iopub.status.idle": "2023-07-26T12:47:17.565074Z",
     "shell.execute_reply": "2023-07-26T12:47:17.564824Z"
    }
   },
   "outputs": [],
   "source": [
    "College.shape"
   ]
  },
  {
   "cell_type": "code",
   "execution_count": null,
   "id": "09f59747",
   "metadata": {
    "execution": {
     "iopub.execute_input": "2023-07-26T12:47:17.566389Z",
     "iopub.status.busy": "2023-07-26T12:47:17.566297Z",
     "iopub.status.idle": "2023-07-26T12:47:17.568257Z",
     "shell.execute_reply": "2023-07-26T12:47:17.568025Z"
    }
   },
   "outputs": [],
   "source": [
    "College.columns"
   ]
  },
  {
   "cell_type": "code",
   "execution_count": null,
   "id": "6a48dfd5",
   "metadata": {
    "execution": {
     "iopub.execute_input": "2023-07-26T12:47:17.569585Z",
     "iopub.status.busy": "2023-07-26T12:47:17.569492Z",
     "iopub.status.idle": "2023-07-26T12:47:17.582384Z",
     "shell.execute_reply": "2023-07-26T12:47:17.582154Z"
    }
   },
   "outputs": [],
   "source": [
    "College.describe().iloc[:,:4]"
   ]
  },
  {
   "cell_type": "markdown",
   "id": "4e0f3d56",
   "metadata": {},
   "source": [
    "# Credit Card Balance Data\n",
    "\n",
    "A simulated data set containing information on 400 customers.\n",
    "\n",
    "- `Income`: Income in $1,000��s\n",
    "\n",
    "- `Limit`: Credit limit\n",
    "\n",
    "- `Rating`: Credit rating\n",
    "\n",
    "- `Cards`: Number of credit cards\n",
    "\n",
    "- `Age`: Age in years\n",
    "\n",
    "- `Education`: Education in years\n",
    "\n",
    "- `Own`: A factor with levels No and Yes indicating whether the individual owns a home\n",
    "\n",
    "- `Student`: A factor with levels No and Yes indicating whether the individual is a student\n",
    "\n",
    "- `Married`: A factor with levels No and Yes indicating whether the individual is married\n",
    "\n",
    "- `Region`: A factor with levels East, South, and West indicating the individual��s geographical location\n",
    "\n",
    "- `Balance`: Average credit card balance in $\n",
    "\n",
    "\n",
    "## Source\n",
    "\n",
    "Simulated data. Many thanks to Albert Kim for helpful suggestions,\n",
    "and for supplying a draft of the man documentation page on Oct 19,\n",
    "2017."
   ]
  },
  {
   "cell_type": "code",
   "execution_count": null,
   "id": "c4895446",
   "metadata": {
    "execution": {
     "iopub.execute_input": "2023-07-26T12:47:39.024610Z",
     "iopub.status.busy": "2023-07-26T12:47:39.024341Z",
     "iopub.status.idle": "2023-07-26T12:47:39.593395Z",
     "shell.execute_reply": "2023-07-26T12:47:39.593133Z"
    }
   },
   "outputs": [],
   "source": [
    "from ISLP import load_data\n",
    "Credit = load_data('Credit')\n",
    "Credit.columns"
   ]
  },
  {
   "cell_type": "code",
   "execution_count": null,
   "id": "c738c66b",
   "metadata": {
    "execution": {
     "iopub.execute_input": "2023-07-26T12:47:39.595074Z",
     "iopub.status.busy": "2023-07-26T12:47:39.594871Z",
     "iopub.status.idle": "2023-07-26T12:47:39.596893Z",
     "shell.execute_reply": "2023-07-26T12:47:39.596667Z"
    }
   },
   "outputs": [],
   "source": [
    "Credit.shape"
   ]
  },
  {
   "cell_type": "code",
   "execution_count": null,
   "id": "d612f5a7",
   "metadata": {
    "execution": {
     "iopub.execute_input": "2023-07-26T12:47:39.598266Z",
     "iopub.status.busy": "2023-07-26T12:47:39.598173Z",
     "iopub.status.idle": "2023-07-26T12:47:39.600134Z",
     "shell.execute_reply": "2023-07-26T12:47:39.599913Z"
    }
   },
   "outputs": [],
   "source": [
    "Credit.columns"
   ]
  },
  {
   "cell_type": "code",
   "execution_count": null,
   "id": "45633b1a",
   "metadata": {
    "execution": {
     "iopub.execute_input": "2023-07-26T12:47:39.601442Z",
     "iopub.status.busy": "2023-07-26T12:47:39.601344Z",
     "iopub.status.idle": "2023-07-26T12:47:39.609927Z",
     "shell.execute_reply": "2023-07-26T12:47:39.609656Z"
    }
   },
   "outputs": [],
   "source": [
    "Credit.describe().iloc[:,:4]"
   ]
  },
  {
   "cell_type": "markdown",
   "id": "2d9583bc",
   "metadata": {},
   "source": [
    "# Credit Card Default Data\n",
    "\n",
    "A simulated data set containing information on ten thousand\n",
    "customers. The aim here is to predict which customers will default\n",
    "on their credit card debt.\n",
    "     \n",
    "- `default`: A factor with levels ��No�� and ��Yes�� indicating whether\n",
    "          the customer defaulted on their debt\n",
    "\n",
    "- `student`: A factor with levels ��No�� and ��Yes�� indicating whether\n",
    "          the customer is a student\n",
    "\n",
    "- `balance`: The average balance that the customer has remaining on\n",
    "          their credit card after making their monthly payment\n",
    "\n",
    "- `income`: Income of customer"
   ]
  },
  {
   "cell_type": "code",
   "execution_count": null,
   "id": "ab810dee",
   "metadata": {
    "execution": {
     "iopub.execute_input": "2023-07-26T12:47:36.566964Z",
     "iopub.status.busy": "2023-07-26T12:47:36.566691Z",
     "iopub.status.idle": "2023-07-26T12:47:37.127499Z",
     "shell.execute_reply": "2023-07-26T12:47:37.127183Z"
    }
   },
   "outputs": [],
   "source": [
    "from ISLP import load_data\n",
    "Default = load_data('Default')\n",
    "Default.columns"
   ]
  },
  {
   "cell_type": "code",
   "execution_count": null,
   "id": "086ef3a2",
   "metadata": {
    "execution": {
     "iopub.execute_input": "2023-07-26T12:47:37.129114Z",
     "iopub.status.busy": "2023-07-26T12:47:37.129003Z",
     "iopub.status.idle": "2023-07-26T12:47:37.131023Z",
     "shell.execute_reply": "2023-07-26T12:47:37.130778Z"
    }
   },
   "outputs": [],
   "source": [
    "Default.shape"
   ]
  },
  {
   "cell_type": "code",
   "execution_count": null,
   "id": "6600c13b",
   "metadata": {
    "execution": {
     "iopub.execute_input": "2023-07-26T12:47:37.132471Z",
     "iopub.status.busy": "2023-07-26T12:47:37.132373Z",
     "iopub.status.idle": "2023-07-26T12:47:37.134281Z",
     "shell.execute_reply": "2023-07-26T12:47:37.134067Z"
    }
   },
   "outputs": [],
   "source": [
    "Default.columns"
   ]
  },
  {
   "cell_type": "code",
   "execution_count": null,
   "id": "09e98840",
   "metadata": {
    "execution": {
     "iopub.execute_input": "2023-07-26T12:47:37.135578Z",
     "iopub.status.busy": "2023-07-26T12:47:37.135480Z",
     "iopub.status.idle": "2023-07-26T12:47:37.141213Z",
     "shell.execute_reply": "2023-07-26T12:47:37.140974Z"
    }
   },
   "outputs": [],
   "source": [
    "Default.describe()"
   ]
  },
  {
   "cell_type": "code",
   "execution_count": null,
   "id": "425f0cb1",
   "metadata": {
    "execution": {
     "iopub.execute_input": "2023-07-26T12:47:37.142597Z",
     "iopub.status.busy": "2023-07-26T12:47:37.142519Z",
     "iopub.status.idle": "2023-07-26T12:47:37.145148Z",
     "shell.execute_reply": "2023-07-26T12:47:37.144915Z"
    }
   },
   "outputs": [],
   "source": [
    "Default['student'].value_counts()"
   ]
  },
  {
   "cell_type": "markdown",
   "id": "ce3e3118",
   "metadata": {},
   "source": [
    "# Fund Manager Data\n",
    "\n",
    "A simulated data set containing the returns for 2,000 hedge fund\n",
    "managers."
   ]
  },
  {
   "cell_type": "code",
   "execution_count": null,
   "id": "5eba8e49",
   "metadata": {
    "execution": {
     "iopub.execute_input": "2023-07-26T12:46:59.809785Z",
     "iopub.status.busy": "2023-07-26T12:46:59.809389Z",
     "iopub.status.idle": "2023-07-26T12:47:00.410897Z",
     "shell.execute_reply": "2023-07-26T12:47:00.410627Z"
    }
   },
   "outputs": [],
   "source": [
    "from ISLP import load_data\n",
    "Fund = load_data('Fund')\n",
    "Fund.columns"
   ]
  },
  {
   "cell_type": "code",
   "execution_count": null,
   "id": "ced3b335",
   "metadata": {
    "execution": {
     "iopub.execute_input": "2023-07-26T12:47:00.412492Z",
     "iopub.status.busy": "2023-07-26T12:47:00.412385Z",
     "iopub.status.idle": "2023-07-26T12:47:00.414444Z",
     "shell.execute_reply": "2023-07-26T12:47:00.414168Z"
    }
   },
   "outputs": [],
   "source": [
    "Fund.shape"
   ]
  },
  {
   "cell_type": "code",
   "execution_count": null,
   "id": "bfff1ac6",
   "metadata": {
    "execution": {
     "iopub.execute_input": "2023-07-26T12:47:00.415891Z",
     "iopub.status.busy": "2023-07-26T12:47:00.415789Z",
     "iopub.status.idle": "2023-07-26T12:47:00.417755Z",
     "shell.execute_reply": "2023-07-26T12:47:00.417529Z"
    }
   },
   "outputs": [],
   "source": [
    "Fund.columns"
   ]
  },
  {
   "cell_type": "markdown",
   "id": "a76b6367",
   "metadata": {},
   "source": [
    "# Baseball Data\n",
    "\n",
    "Major League Baseball Data from the 1986 and 1987 seasons.\n",
    "\n",
    "- `AtBat`: Number of times at bat in 1986\n",
    "\n",
    "- `Hits`: Number of hits in 1986\n",
    "\n",
    "- `HmRun`: Number of home runs in 1986\n",
    "\n",
    "- `Runs`: Number of runs in 1986\n",
    "\n",
    "- `RBI`: Number of runs batted in in 1986\n",
    "\n",
    "- `Walks`: Number of walks in 1986\n",
    "\n",
    "- `Years`: Number of years in the major leagues\n",
    "\n",
    "- `CAtBat`: Number of times at bat during his career\n",
    "\n",
    "- `CHits`: Number of hits during his career\n",
    "\n",
    "- `CHmRun`: Number of home runs during his career\n",
    "\n",
    "- `CRuns`: Number of runs during his career\n",
    "\n",
    "- `CRBI`: Number of runs batted in during his career\n",
    "\n",
    "- `CWalks`: Number of walks during his career\n",
    "\n",
    "- `League`: A factor with levels A and N indicating player��s league at the end of 1986\n",
    "\n",
    "- `Division`: A factor with levels E and W indicating player��s division at the end of 1986\n",
    "\n",
    "- `PutOuts`: Number of put outs in 1986\n",
    "\n",
    "- `Assists`: Number of assists in 1986\n",
    "\n",
    "- `Errors`: Number of errors in 1986\n",
    "\n",
    "- `Salary`: 1987 annual salary on opening day in thousands of dollars\n",
    "\n",
    "- `NewLeague`: A factor with levels A and N indicating player��s league at the beginning of 1987\n",
    "\n",
    "## Notes\n",
    "\n",
    "This dataset was taken from the StatLib library which is maintained at\n",
    "Carnegie Mellon University. This is part of the data that was\n",
    "used in the 1988 ASA Graphics Section Poster Session. The salary\n",
    "data were originally from Sports Illustrated, April 20, 1987. The\n",
    "1986 and career statistics were obtained from The 1987 Baseball\n",
    "Encyclopedia Update published by Collier Books, Macmillan\n",
    "Publishing Company, New York."
   ]
  },
  {
   "cell_type": "code",
   "execution_count": null,
   "id": "4fa187f0",
   "metadata": {
    "execution": {
     "iopub.execute_input": "2023-07-26T12:47:34.072657Z",
     "iopub.status.busy": "2023-07-26T12:47:34.072382Z",
     "iopub.status.idle": "2023-07-26T12:47:34.654518Z",
     "shell.execute_reply": "2023-07-26T12:47:34.654230Z"
    }
   },
   "outputs": [],
   "source": [
    "from ISLP import load_data\n",
    "Hitters = load_data('Hitters')\n",
    "Hitters.columns"
   ]
  },
  {
   "cell_type": "code",
   "execution_count": null,
   "id": "04535ffb",
   "metadata": {
    "execution": {
     "iopub.execute_input": "2023-07-26T12:47:34.656071Z",
     "iopub.status.busy": "2023-07-26T12:47:34.655969Z",
     "iopub.status.idle": "2023-07-26T12:47:34.657899Z",
     "shell.execute_reply": "2023-07-26T12:47:34.657674Z"
    }
   },
   "outputs": [],
   "source": [
    "Hitters.shape"
   ]
  },
  {
   "cell_type": "code",
   "execution_count": null,
   "id": "6875aac6",
   "metadata": {
    "execution": {
     "iopub.execute_input": "2023-07-26T12:47:34.659335Z",
     "iopub.status.busy": "2023-07-26T12:47:34.659236Z",
     "iopub.status.idle": "2023-07-26T12:47:34.661182Z",
     "shell.execute_reply": "2023-07-26T12:47:34.660944Z"
    }
   },
   "outputs": [],
   "source": [
    "Hitters.columns"
   ]
  },
  {
   "cell_type": "code",
   "execution_count": null,
   "id": "9e2cffc8",
   "metadata": {
    "execution": {
     "iopub.execute_input": "2023-07-26T12:47:34.662645Z",
     "iopub.status.busy": "2023-07-26T12:47:34.662543Z",
     "iopub.status.idle": "2023-07-26T12:47:34.674958Z",
     "shell.execute_reply": "2023-07-26T12:47:34.674698Z"
    }
   },
   "outputs": [],
   "source": [
    "Hitters.describe().iloc[:,:4]"
   ]
  },
  {
   "cell_type": "markdown",
   "id": "6c49ac41",
   "metadata": {},
   "source": [
    "# Khan Gene Data\n",
    "\n",
    "The data consists of a number of tissue samples corresponding to\n",
    "four distinct types of small round blue cell tumors. For each\n",
    "tissue sample, 2308 gene expression measurements are available.\n",
    "\n",
    "     \n",
    "## Format\n",
    "\n",
    "The format is a dict containing four components: `xtrain`,\n",
    "`xtest`, `ytrain`, and `ytest`. `xtrain` contains the 2308 gene\n",
    "expression values for 63 subjects and `ytrain` records the\n",
    "corresponding tumor type. `ytrain` and `ytest` contain the\n",
    "corresponding testing sample information for a further 20\n",
    "subjects.\n",
    "\n",
    "## Notes\n",
    "\n",
    "This data were originally reported in:\n",
    "\n",
    "- Khan J, Wei J, Ringner M, Saal L, Ladanyi M, Westermann F,\n",
    "Berthold F, Schwab M, Antonescu C, Peterson C, and Meltzer P.\n",
    "Classification and diagnostic prediction of cancers using gene\n",
    "expression profiling and artificial neural networks. Nature\n",
    "Medicine, v.7, pp.673-679, 2001.\n",
    "\n",
    "The data were also used in:\n",
    "\n",
    "- Tibshirani RJ, Hastie T, Narasimhan B, and G. Chu. Diagnosis of\n",
    "Multiple Cancer Types by Shrunken Centroids of Gene Expression.\n",
    "Proceedings of the National Academy of Sciences of the United\n",
    "States of America, v.99(10), pp.6567-6572, May 14, 2002."
   ]
  },
  {
   "cell_type": "code",
   "execution_count": null,
   "id": "bfda6cad",
   "metadata": {
    "execution": {
     "iopub.execute_input": "2023-07-26T12:46:53.879692Z",
     "iopub.status.busy": "2023-07-26T12:46:53.879072Z",
     "iopub.status.idle": "2023-07-26T12:46:54.473904Z",
     "shell.execute_reply": "2023-07-26T12:46:54.473562Z"
    }
   },
   "outputs": [],
   "source": [
    "from ISLP import load_data\n",
    "Khan = load_data('Khan')\n",
    "Khan.keys()"
   ]
  },
  {
   "cell_type": "code",
   "execution_count": null,
   "id": "70514dc5",
   "metadata": {
    "execution": {
     "iopub.execute_input": "2023-07-26T12:46:54.475443Z",
     "iopub.status.busy": "2023-07-26T12:46:54.475340Z",
     "iopub.status.idle": "2023-07-26T12:46:54.477103Z",
     "shell.execute_reply": "2023-07-26T12:46:54.476883Z"
    }
   },
   "outputs": [],
   "source": [
    "for X in ['xtest', 'xtrain']:\n",
    "    print(Khan[X].shape)"
   ]
  },
  {
   "cell_type": "code",
   "execution_count": null,
   "id": "e9df5de8",
   "metadata": {
    "execution": {
     "iopub.execute_input": "2023-07-26T12:46:54.478408Z",
     "iopub.status.busy": "2023-07-26T12:46:54.478336Z",
     "iopub.status.idle": "2023-07-26T12:46:54.480540Z",
     "shell.execute_reply": "2023-07-26T12:46:54.480299Z"
    }
   },
   "outputs": [],
   "source": [
    "for Y in ['ytest', 'ytrain']:\n",
    "    print(Khan[Y].value_counts())"
   ]
  },
  {
   "cell_type": "markdown",
   "id": "83be6e9e",
   "metadata": {},
   "source": [
    "# NCI 60 Data\n",
    "\n",
    "NCI microarray data. The data contains expression levels on 6830\n",
    "genes from 64 cancer cell lines. Cancer type is also recorded.\n",
    "\n",
    "The format is a list containing two elements: ��data�� and ��labs��.\n",
    "\n",
    "- `data`: is a 64 by 6830 matrix of the expression values while\n",
    "\n",
    "- `labs`: is a vector listing the cancer types for the 64 cell lines.\n",
    "\n",
    "## Source\n",
    "\n",
    "The data come from Ross et al. (Nat Genet., 2000). More information can be obtained at\n",
    "[http://genome-www.stanford.edu/nci60](http://genome-www.stanford.edu/nci60)."
   ]
  },
  {
   "cell_type": "code",
   "execution_count": null,
   "id": "c88c2eaf",
   "metadata": {
    "execution": {
     "iopub.execute_input": "2023-07-26T12:47:07.189429Z",
     "iopub.status.busy": "2023-07-26T12:47:07.188891Z",
     "iopub.status.idle": "2023-07-26T12:47:07.734853Z",
     "shell.execute_reply": "2023-07-26T12:47:07.734392Z"
    }
   },
   "outputs": [],
   "source": [
    "from ISLP import load_data\n",
    "NCI60 = load_data('NCI60')\n",
    "NCI60.keys()"
   ]
  },
  {
   "cell_type": "code",
   "execution_count": null,
   "id": "0e6279ad",
   "metadata": {
    "execution": {
     "iopub.execute_input": "2023-07-26T12:47:07.736643Z",
     "iopub.status.busy": "2023-07-26T12:47:07.736477Z",
     "iopub.status.idle": "2023-07-26T12:47:07.740295Z",
     "shell.execute_reply": "2023-07-26T12:47:07.739954Z"
    }
   },
   "outputs": [],
   "source": [
    "NCI60['labels'].value_counts()"
   ]
  },
  {
   "cell_type": "code",
   "execution_count": null,
   "id": "ed5ddd2f",
   "metadata": {
    "execution": {
     "iopub.execute_input": "2023-07-26T12:47:07.741963Z",
     "iopub.status.busy": "2023-07-26T12:47:07.741866Z",
     "iopub.status.idle": "2023-07-26T12:47:07.744496Z",
     "shell.execute_reply": "2023-07-26T12:47:07.744146Z"
    }
   },
   "outputs": [],
   "source": [
    "NCI60['data'].shape"
   ]
  },
  {
   "cell_type": "markdown",
   "id": "9dc206d2",
   "metadata": {},
   "source": [
    "# New York Stock Exchange Data\n",
    "\n",
    "Data consisting of the Dow Jones returns, log trading volume, and\n",
    "log volatility for the New York Stock Exchange over a 20 year\n",
    "period\n",
    "\n",
    "- `date`: Date\n",
    "\n",
    "- `day_of_week`: Day of the week\n",
    "\n",
    "- `DJ_return`: Return for Dow Jones Industrial Average\n",
    "\n",
    "- `log_volume`: Log of trading volume\n",
    "\n",
    "- `log_volatility`: Log of volatility\n",
    "\n",
    "- `train`: For the first 4,281 observations, this is set to `True`\n",
    "\n",
    "## Source\n",
    "\n",
    "- B. LeBaron and A. Weigend (1998), IEEE Transactions on Neural\n",
    "Networks 9(1): 213-220."
   ]
  },
  {
   "cell_type": "code",
   "execution_count": null,
   "id": "fcff6c95",
   "metadata": {
    "execution": {
     "iopub.execute_input": "2023-07-26T12:47:24.365935Z",
     "iopub.status.busy": "2023-07-26T12:47:24.365648Z",
     "iopub.status.idle": "2023-07-26T12:47:24.910157Z",
     "shell.execute_reply": "2023-07-26T12:47:24.909886Z"
    }
   },
   "outputs": [],
   "source": [
    "from ISLP import load_data\n",
    "NYSE = load_data('NYSE')\n",
    "NYSE.columns"
   ]
  },
  {
   "cell_type": "code",
   "execution_count": null,
   "id": "84426961",
   "metadata": {
    "execution": {
     "iopub.execute_input": "2023-07-26T12:47:24.911976Z",
     "iopub.status.busy": "2023-07-26T12:47:24.911859Z",
     "iopub.status.idle": "2023-07-26T12:47:24.913899Z",
     "shell.execute_reply": "2023-07-26T12:47:24.913685Z"
    }
   },
   "outputs": [],
   "source": [
    "NYSE.shape"
   ]
  },
  {
   "cell_type": "code",
   "execution_count": null,
   "id": "e6194a8c",
   "metadata": {
    "execution": {
     "iopub.execute_input": "2023-07-26T12:47:24.915295Z",
     "iopub.status.busy": "2023-07-26T12:47:24.915180Z",
     "iopub.status.idle": "2023-07-26T12:47:24.917209Z",
     "shell.execute_reply": "2023-07-26T12:47:24.916991Z"
    }
   },
   "outputs": [],
   "source": [
    "NYSE.columns"
   ]
  },
  {
   "cell_type": "code",
   "execution_count": null,
   "id": "0c7bf3d7",
   "metadata": {
    "execution": {
     "iopub.execute_input": "2023-07-26T12:47:24.918571Z",
     "iopub.status.busy": "2023-07-26T12:47:24.918468Z",
     "iopub.status.idle": "2023-07-26T12:47:24.924914Z",
     "shell.execute_reply": "2023-07-26T12:47:24.924671Z"
    }
   },
   "outputs": [],
   "source": [
    "NYSE.describe()"
   ]
  },
  {
   "cell_type": "markdown",
   "id": "bbab1a1a",
   "metadata": {},
   "source": [
    "# Orange Juice Data\n",
    "\n",
    "The data contains 1070 purchases where the customer either\n",
    "purchased Citrus Hill or Minute Maid Orange Juice. A number of\n",
    "characteristics of the customer and product are recorded.\n",
    "\n",
    "     \n",
    "- `Purchase`: A factor with levels 'CH' and 'MM' indicating whether\n",
    "the customer purchased Citrus Hill or Minute Maid Orange\n",
    "Juice\n",
    "\n",
    "- `WeekofPurchase`: Week of purchase\n",
    "\n",
    "- `StoreID`: Store ID\n",
    "\n",
    "- `PriceCH`: Price charged for CH\n",
    "\n",
    "- `PriceMM`: Price charged for MM\n",
    "\n",
    "- `DiscCH`: Discount offered for CH\n",
    "\n",
    "- `DiscMM`: Discount offered for MM\n",
    "\n",
    "- `SpecialCH`: Indicator of special on CH\n",
    "\n",
    "- `SpecialMM`: Indicator of special on MM\n",
    "\n",
    "- `LoyalCH`: Customer brand loyalty for CH\n",
    "\n",
    "- `SalePriceMM`: Sale price for MM\n",
    "\n",
    "- `SalePriceCH`: Sale price for CH\n",
    "\n",
    "- `PriceDiff`: Sale price of MM less sale price of CH\n",
    "\n",
    "- `Store7`: A factor with levels 'No' and 'Yes' indicating whether\n",
    "the sale is at Store 7\n",
    "\n",
    "- `PctDiscMM`: Percentage discount for MM\n",
    "\n",
    "- `PctDiscCH`: Percentage discount for CH\n",
    "\n",
    "- `ListPriceDiff`: List price of MM less list price of CH\n",
    "\n",
    "- `STORE`: Which of 5 possible stores the sale occured at\n",
    "\n",
    "## Source\n",
    "\n",
    "Stine, Robert A., Foster, Dean P., Waterman, Richard P. Business\n",
    "Analysis Using Regression (1998). Published by Springer."
   ]
  },
  {
   "cell_type": "code",
   "execution_count": null,
   "id": "609742da",
   "metadata": {
    "execution": {
     "iopub.execute_input": "2023-07-26T12:47:14.553008Z",
     "iopub.status.busy": "2023-07-26T12:47:14.551694Z",
     "iopub.status.idle": "2023-07-26T12:47:15.102658Z",
     "shell.execute_reply": "2023-07-26T12:47:15.102334Z"
    }
   },
   "outputs": [],
   "source": [
    "from ISLP import load_data\n",
    "OJ = load_data('OJ')\n",
    "OJ.columns"
   ]
  },
  {
   "cell_type": "code",
   "execution_count": null,
   "id": "6f195dcd",
   "metadata": {
    "execution": {
     "iopub.execute_input": "2023-07-26T12:47:15.104419Z",
     "iopub.status.busy": "2023-07-26T12:47:15.104301Z",
     "iopub.status.idle": "2023-07-26T12:47:15.106415Z",
     "shell.execute_reply": "2023-07-26T12:47:15.106177Z"
    }
   },
   "outputs": [],
   "source": [
    "OJ.shape"
   ]
  },
  {
   "cell_type": "code",
   "execution_count": null,
   "id": "aaafb83b",
   "metadata": {
    "execution": {
     "iopub.execute_input": "2023-07-26T12:47:15.107821Z",
     "iopub.status.busy": "2023-07-26T12:47:15.107723Z",
     "iopub.status.idle": "2023-07-26T12:47:15.109747Z",
     "shell.execute_reply": "2023-07-26T12:47:15.109486Z"
    }
   },
   "outputs": [],
   "source": [
    "OJ.columns"
   ]
  },
  {
   "cell_type": "code",
   "execution_count": null,
   "id": "774dfa86",
   "metadata": {
    "execution": {
     "iopub.execute_input": "2023-07-26T12:47:15.111066Z",
     "iopub.status.busy": "2023-07-26T12:47:15.110974Z",
     "iopub.status.idle": "2023-07-26T12:47:15.123225Z",
     "shell.execute_reply": "2023-07-26T12:47:15.122965Z"
    }
   },
   "outputs": [],
   "source": [
    "OJ.describe().iloc[:,:4]"
   ]
  },
  {
   "cell_type": "markdown",
   "id": "e7030b1c",
   "metadata": {},
   "source": [
    "# Portfolio Data\n",
    "\n",
    "A simple simulated data set containing 100 returns for each of two\n",
    "assets, X and Y. The data is used to estimate the optimal fraction\n",
    "to invest in each asset to minimize investment risk of the\n",
    "combined portfolio. One can then use the Bootstrap to estimate the\n",
    "standard error of this estimate.\n",
    "\n",
    "- `X`: Returns for Asset X\n",
    "\n",
    "- `Y`: Returns for Asset Y"
   ]
  },
  {
   "cell_type": "code",
   "execution_count": null,
   "id": "3adff220",
   "metadata": {
    "execution": {
     "iopub.execute_input": "2023-07-26T12:47:02.309375Z",
     "iopub.status.busy": "2023-07-26T12:47:02.308873Z",
     "iopub.status.idle": "2023-07-26T12:47:02.849537Z",
     "shell.execute_reply": "2023-07-26T12:47:02.849247Z"
    }
   },
   "outputs": [],
   "source": [
    "from ISLP import load_data\n",
    "Portfolio = load_data('Portfolio')\n",
    "Portfolio.columns"
   ]
  },
  {
   "cell_type": "code",
   "execution_count": null,
   "id": "b02a9e67",
   "metadata": {
    "execution": {
     "iopub.execute_input": "2023-07-26T12:47:02.851392Z",
     "iopub.status.busy": "2023-07-26T12:47:02.851244Z",
     "iopub.status.idle": "2023-07-26T12:47:02.853779Z",
     "shell.execute_reply": "2023-07-26T12:47:02.853348Z"
    }
   },
   "outputs": [],
   "source": [
    "Portfolio.shape"
   ]
  },
  {
   "cell_type": "code",
   "execution_count": null,
   "id": "3e83a0ed",
   "metadata": {
    "execution": {
     "iopub.execute_input": "2023-07-26T12:47:02.855660Z",
     "iopub.status.busy": "2023-07-26T12:47:02.855540Z",
     "iopub.status.idle": "2023-07-26T12:47:02.858065Z",
     "shell.execute_reply": "2023-07-26T12:47:02.857779Z"
    }
   },
   "outputs": [],
   "source": [
    "Portfolio.columns"
   ]
  },
  {
   "cell_type": "code",
   "execution_count": null,
   "id": "3ebec412",
   "metadata": {
    "execution": {
     "iopub.execute_input": "2023-07-26T12:47:02.859606Z",
     "iopub.status.busy": "2023-07-26T12:47:02.859503Z",
     "iopub.status.idle": "2023-07-26T12:47:02.865754Z",
     "shell.execute_reply": "2023-07-26T12:47:02.865418Z"
    }
   },
   "outputs": [],
   "source": [
    "Portfolio.describe()"
   ]
  },
  {
   "cell_type": "markdown",
   "id": "1ba53aaf",
   "metadata": {},
   "source": [
    "# Time-to-Publication Data\n",
    "\n",
    "Publication times for 244 clinical trials funded by the National\n",
    "Heart, Lung, and Blood Institute.\n",
    "     \n",
    "\n",
    "- `posres`: Did the trial produce a positive (significant) result?\n",
    "  1=Yes, 0=No.\n",
    "\n",
    "- `multi`: Did the trial involve multiple centers? 1=Yes, 0=No.\n",
    "\n",
    "- `clinend`: Did the trial focus on a clinical endpoint? 1=Yes, 0=No.\n",
    "\n",
    "- `mech`: Funding mechanism within National Institute of Health: a\n",
    "  qualitative variable.\n",
    "\n",
    "- `sampsize`: Sample size for the trial.\n",
    "\n",
    "- `budget`: Budget of the trial, in millions of dollars.\n",
    "\n",
    "- `impact`: Impact of the trial; this is related to the number of\n",
    "  publications.\n",
    "\n",
    "- `time`: Time to publication, in months.\n",
    "\n",
    "- `status`: Whether or not the trial was published at `time`:\n",
    "  1=Published, 0=Not yet published.\n",
    "\n",
    "## Source\n",
    "\n",
    "- Gordon, Taddei-Peters, Mascette, Antman, Kaufmann, and Lauer.\n",
    "Publication of trials funded by the National Heart, Lung, and\n",
    "Blood Institute.  New England Journal of Medicine,\n",
    "369(20):1926-1934, 2013."
   ]
  },
  {
   "cell_type": "code",
   "execution_count": null,
   "id": "61d7c2b3",
   "metadata": {
    "execution": {
     "iopub.execute_input": "2023-07-26T12:47:29.196850Z",
     "iopub.status.busy": "2023-07-26T12:47:29.196559Z",
     "iopub.status.idle": "2023-07-26T12:47:29.727827Z",
     "shell.execute_reply": "2023-07-26T12:47:29.727421Z"
    }
   },
   "outputs": [],
   "source": [
    "from ISLP import load_data\n",
    "Publication = load_data('Publication')\n",
    "Publication.columns"
   ]
  },
  {
   "cell_type": "code",
   "execution_count": null,
   "id": "4d72460d",
   "metadata": {
    "execution": {
     "iopub.execute_input": "2023-07-26T12:47:29.729844Z",
     "iopub.status.busy": "2023-07-26T12:47:29.729686Z",
     "iopub.status.idle": "2023-07-26T12:47:29.732275Z",
     "shell.execute_reply": "2023-07-26T12:47:29.732008Z"
    }
   },
   "outputs": [],
   "source": [
    "Publication.shape"
   ]
  },
  {
   "cell_type": "code",
   "execution_count": null,
   "id": "fd34224c",
   "metadata": {
    "execution": {
     "iopub.execute_input": "2023-07-26T12:47:29.734028Z",
     "iopub.status.busy": "2023-07-26T12:47:29.733885Z",
     "iopub.status.idle": "2023-07-26T12:47:29.736365Z",
     "shell.execute_reply": "2023-07-26T12:47:29.736014Z"
    }
   },
   "outputs": [],
   "source": [
    "Publication.columns"
   ]
  },
  {
   "cell_type": "code",
   "execution_count": null,
   "id": "51bfb0aa",
   "metadata": {
    "execution": {
     "iopub.execute_input": "2023-07-26T12:47:29.738169Z",
     "iopub.status.busy": "2023-07-26T12:47:29.738046Z",
     "iopub.status.idle": "2023-07-26T12:47:29.747027Z",
     "shell.execute_reply": "2023-07-26T12:47:29.746722Z"
    }
   },
   "outputs": [],
   "source": [
    "Publication.describe().iloc[:,:4]"
   ]
  },
  {
   "cell_type": "markdown",
   "id": "1e051d30",
   "metadata": {},
   "source": [
    "# S&P Stock Market Data\n",
    "\n",
    "Daily percentage returns for the S&P 500 stock index between 2001\n",
    "and 2005.\n",
    "\n",
    "- `Year`: The year that the observation was recorded\n",
    "\n",
    "- `Lag1`: Percentage return for previous day\n",
    "\n",
    "- `Lag2`: Percentage return for 2 days previous\n",
    "\n",
    "- `Lag3`: Percentage return for 3 days previous\n",
    "\n",
    "- `Lag4`: Percentage return for 4 days previous\n",
    "\n",
    "- `Lag5`: Percentage return for 5 days previous\n",
    "\n",
    "- `Volume`: Volume of shares traded (number of daily shares traded in\n",
    "          billions)\n",
    "\n",
    "- `Today`: Percentage return for today\n",
    "\n",
    "- `Direction`: A factor with levels 'Down' and 'Up' indicating\n",
    " whether the market had a positive or negative return on a\n",
    " given day\n",
    "\n",
    "## Source\n",
    "\n",
    "Raw values of the S&P 500 were obtained from Yahoo Finance and\n",
    "then converted to percentages and lagged."
   ]
  },
  {
   "cell_type": "code",
   "execution_count": null,
   "id": "3d920337",
   "metadata": {
    "execution": {
     "iopub.execute_input": "2023-07-26T12:47:21.928355Z",
     "iopub.status.busy": "2023-07-26T12:47:21.927766Z",
     "iopub.status.idle": "2023-07-26T12:47:22.480597Z",
     "shell.execute_reply": "2023-07-26T12:47:22.480297Z"
    }
   },
   "outputs": [],
   "source": [
    "from ISLP import load_data\n",
    "Smarket = load_data('Smarket')\n",
    "Smarket.columns"
   ]
  },
  {
   "cell_type": "code",
   "execution_count": null,
   "id": "25d90138",
   "metadata": {
    "execution": {
     "iopub.execute_input": "2023-07-26T12:47:22.482125Z",
     "iopub.status.busy": "2023-07-26T12:47:22.482016Z",
     "iopub.status.idle": "2023-07-26T12:47:22.484017Z",
     "shell.execute_reply": "2023-07-26T12:47:22.483801Z"
    }
   },
   "outputs": [],
   "source": [
    "Smarket.shape"
   ]
  },
  {
   "cell_type": "code",
   "execution_count": null,
   "id": "0e8c57de",
   "metadata": {
    "execution": {
     "iopub.execute_input": "2023-07-26T12:47:22.485456Z",
     "iopub.status.busy": "2023-07-26T12:47:22.485359Z",
     "iopub.status.idle": "2023-07-26T12:47:22.487416Z",
     "shell.execute_reply": "2023-07-26T12:47:22.487186Z"
    }
   },
   "outputs": [],
   "source": [
    "Smarket.columns"
   ]
  },
  {
   "cell_type": "code",
   "execution_count": null,
   "id": "2d455f1e",
   "metadata": {
    "execution": {
     "iopub.execute_input": "2023-07-26T12:47:22.488803Z",
     "iopub.status.busy": "2023-07-26T12:47:22.488706Z",
     "iopub.status.idle": "2023-07-26T12:47:22.497401Z",
     "shell.execute_reply": "2023-07-26T12:47:22.497165Z"
    }
   },
   "outputs": [],
   "source": [
    "Smarket.describe().iloc[:,-4:]"
   ]
  },
  {
   "cell_type": "markdown",
   "id": "15ad7ee0",
   "metadata": {},
   "source": [
    "# Violent Crime Rates by US State\n",
    "\n",
    "This data set contains statistics, in arrests per 100,000\n",
    "residents for assault, murder, and rape in each of the 50 US\n",
    "states in 1973.  Also given is the percent of the population\n",
    "living in urban areas.\n",
    "\n",
    "\n",
    "- `Murder`: Murder arrests (per 100,000)  \n",
    "\n",
    "- `Assault`: Assault arrests (per 100,000) \n",
    "\n",
    "- `UrbanPop`: Percent urban population      \n",
    "\n",
    "- `Rape`: Rape arrests (per 100,000)    \n",
    "\n",
    "## Notes\n",
    "\n",
    "From the `R` base package. See help with command `?USArrests` (in `R`)"
   ]
  },
  {
   "cell_type": "code",
   "execution_count": null,
   "id": "feab45d4-ce30-4ea9-800c-bbe9e7c11f6d",
   "metadata": {
    "execution": {
     "iopub.execute_input": "2023-07-26T12:46:56.351520Z",
     "iopub.status.busy": "2023-07-26T12:46:56.350481Z",
     "iopub.status.idle": "2023-07-26T12:46:58.021100Z",
     "shell.execute_reply": "2023-07-26T12:46:58.019698Z"
    }
   },
   "outputs": [],
   "source": [
    "from statsmodels.datasets import get_rdataset\n",
    "USArrests = get_rdataset('USArrests').data"
   ]
  },
  {
   "cell_type": "code",
   "execution_count": null,
   "id": "bdfffad4-6ab1-45da-8d62-8a7c4326fb24",
   "metadata": {
    "execution": {
     "iopub.execute_input": "2023-07-26T12:46:58.027241Z",
     "iopub.status.busy": "2023-07-26T12:46:58.026857Z",
     "iopub.status.idle": "2023-07-26T12:46:58.034424Z",
     "shell.execute_reply": "2023-07-26T12:46:58.033781Z"
    }
   },
   "outputs": [],
   "source": [
    "USArrests.shape"
   ]
  },
  {
   "cell_type": "code",
   "execution_count": null,
   "id": "02f28a67-e8b9-4a17-ad0d-88672e1de26d",
   "metadata": {
    "execution": {
     "iopub.execute_input": "2023-07-26T12:46:58.038173Z",
     "iopub.status.busy": "2023-07-26T12:46:58.037943Z",
     "iopub.status.idle": "2023-07-26T12:46:58.041828Z",
     "shell.execute_reply": "2023-07-26T12:46:58.041345Z"
    }
   },
   "outputs": [],
   "source": [
    "USArrests.columns"
   ]
  },
  {
   "cell_type": "code",
   "execution_count": null,
   "id": "711db396-64d6-4fbd-9be4-bebe4117216f",
   "metadata": {
    "execution": {
     "iopub.execute_input": "2023-07-26T12:46:58.044543Z",
     "iopub.status.busy": "2023-07-26T12:46:58.044381Z",
     "iopub.status.idle": "2023-07-26T12:46:58.057559Z",
     "shell.execute_reply": "2023-07-26T12:46:58.057142Z"
    }
   },
   "outputs": [],
   "source": [
    "USArrests.describe()"
   ]
  },
  {
   "cell_type": "markdown",
   "id": "56ff58b6",
   "metadata": {},
   "source": [
    "# Mid-Atlantic Wage Data\n",
    "\n",
    "Wage and other data for a group of 3000 male workers in the\n",
    "Mid-Atlantic region.\n",
    "\n",
    "- `year`: Year that wage information was recorded\n",
    "\n",
    "- `age`: Age of worker\n",
    "\n",
    "- `maritl`: A factor with levels '1. Never Married', '2. Married', '3.\n",
    " '3. Widowed', '4. Divorced' and '5. Separated' indicating marital\n",
    " status\n",
    "\n",
    "- `race`: A factor with levels '1. White', '2. Black', '3. Asian' and\n",
    " '4. Other' indicating race\n",
    "\n",
    "- `education`: A factor with levels '1. < HS Grad', '2. HS Grad', \n",
    " '3. Some College', '4. College Grad' and '5. Advanced Degree'\n",
    " indicating education level\n",
    "\n",
    "- `region`: Region of the country (mid-atlantic only)\n",
    "\n",
    "- `jobclass`: A factor with levels '1. Industrial' and '2.\n",
    " Information' indicating type of job\n",
    "\n",
    "- `health`: A factor with levels '1. <=Good' and '2. >=Very Good'\n",
    " indicating health level of worker\n",
    "\n",
    "- `health_ins`: A factor with levels '1. Yes' and '2. No' indicating\n",
    " whether worker has health insurance\n",
    "\n",
    "- `logwage`: Log of workers wage\n",
    "\n",
    "- `wage`: Workers raw wage\n",
    "\n",
    "## Source\n",
    "\n",
    "Data was manually assembled by Steve Miller, of Inquidia\n",
    "Consulting (formerly Open BI). From the March 2011 Supplement to\n",
    "Current Population Survey data.\n",
    "\n",
    "See also: [re3data.org/repository/r3d100011860](https://www.re3data.org/repository/r3d100011860)"
   ]
  },
  {
   "cell_type": "code",
   "execution_count": null,
   "id": "6832d321",
   "metadata": {
    "execution": {
     "iopub.execute_input": "2023-07-26T12:47:04.731864Z",
     "iopub.status.busy": "2023-07-26T12:47:04.731413Z",
     "iopub.status.idle": "2023-07-26T12:47:05.295785Z",
     "shell.execute_reply": "2023-07-26T12:47:05.295452Z"
    }
   },
   "outputs": [],
   "source": [
    "from ISLP import load_data\n",
    "Wage = load_data('Wage')\n",
    "Wage.columns"
   ]
  },
  {
   "cell_type": "code",
   "execution_count": null,
   "id": "1c1ad3f3",
   "metadata": {
    "execution": {
     "iopub.execute_input": "2023-07-26T12:47:05.297482Z",
     "iopub.status.busy": "2023-07-26T12:47:05.297357Z",
     "iopub.status.idle": "2023-07-26T12:47:05.299508Z",
     "shell.execute_reply": "2023-07-26T12:47:05.299247Z"
    }
   },
   "outputs": [],
   "source": [
    "Wage.shape"
   ]
  },
  {
   "cell_type": "code",
   "execution_count": null,
   "id": "d56ab6a4",
   "metadata": {
    "execution": {
     "iopub.execute_input": "2023-07-26T12:47:05.300989Z",
     "iopub.status.busy": "2023-07-26T12:47:05.300875Z",
     "iopub.status.idle": "2023-07-26T12:47:05.303024Z",
     "shell.execute_reply": "2023-07-26T12:47:05.302786Z"
    }
   },
   "outputs": [],
   "source": [
    "Wage.columns"
   ]
  },
  {
   "cell_type": "code",
   "execution_count": null,
   "id": "5f021939",
   "metadata": {
    "execution": {
     "iopub.execute_input": "2023-07-26T12:47:05.304606Z",
     "iopub.status.busy": "2023-07-26T12:47:05.304487Z",
     "iopub.status.idle": "2023-07-26T12:47:05.311771Z",
     "shell.execute_reply": "2023-07-26T12:47:05.311522Z"
    }
   },
   "outputs": [],
   "source": [
    "Wage.describe()"
   ]
  }
 ],
 "metadata": {
  "jupytext": {
   "formats": "source/datasets///ipynb,jupyterbook/datasets///md:myst,jupyterbook/datasets///ipynb"
  },
  "kernelspec": {
   "display_name": "python3",
   "language": "python",
   "name": "python3"
  },
  "language_info": {
   "codemirror_mode": {
    "name": "ipython",
    "version": 3
   },
   "file_extension": ".py",
   "mimetype": "text/x-python",
   "name": "python",
   "nbconvert_exporter": "python",
   "pygments_lexer": "ipython3",
   "version": "3.9.17"
  },
  "nbTranslate": {
   "displayLangs": [
    "*"
   ],
   "hotkey": "alt-t",
   "langInMainMenu": true,
   "sourceLang": "en",
   "targetLang": "fr",
   "useGoogleTranslate": true
  },
  "toc": {
   "base_numbering": 1,
   "nav_menu": {},
   "number_sections": true,
   "sideBar": true,
   "skip_h1_title": false,
   "title_cell": "Table of Contents",
   "title_sidebar": "Contents",
   "toc_cell": false,
   "toc_position": {},
   "toc_section_display": true,
   "toc_window_display": false
  },
  "varInspector": {
   "cols": {
    "lenName": 16,
    "lenType": 16,
    "lenVar": 40
   },
   "kernels_config": {
    "python": {
     "delete_cmd_postfix": "",
     "delete_cmd_prefix": "del ",
     "library": "var_list.py",
     "varRefreshCmd": "print(var_dic_list())"
    },
    "r": {
     "delete_cmd_postfix": ") ",
     "delete_cmd_prefix": "rm(",
     "library": "var_list.r",
     "varRefreshCmd": "cat(var_dic_list()) "
    }
   },
   "types_to_exclude": [
    "module",
    "function",
    "builtin_function_or_method",
    "instance",
    "_Feature"
   ],
   "window_display": false
  }
 },
 "nbformat": 4,
 "nbformat_minor": 5
}
