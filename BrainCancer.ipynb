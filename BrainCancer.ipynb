{
 "cells": [
  {
   "cell_type": "markdown",
   "id": "d96d8560",
   "metadata": {},
   "source": [
    "# Brain Cancer Data\n",
    "\n",
    "A data set consisting of survival times for patients diagnosed\n",
    "with brain cancer.\n",
    "     \n",
    "- `sex`: Factor with levels \"Female\" and \"Male\"\n",
    "\n",
    "- `diagnosis`: Factor with levels \"Meningioma\", \"LG glioma\", \"HG glioma\", and \"Other\".\n",
    "\n",
    "- `loc`: Location factor with levels \"Infratentorial\" and \"Supratentorial\".\n",
    "\n",
    "- `ki`: Karnofsky index.\n",
    "\n",
    "- `gtv`: Gross tumor volume, in cubic centimeters.\n",
    "\n",
    "- `stereo`: Stereotactic method factor with levels \"SRS\" and \"SRT\".\n",
    "\n",
    "- `status`: Whether the patient is still alive at the end of the study: 0=Yes, 1=No.\n",
    "\n",
    "- `time`: Survival time, in months\n",
    "\n",
    "## Source\n",
    "\n",
    "- I. Selingerova, H. Dolezelova, I. Horova, S. Katina, and J.\n",
    "     Zelinka. Survival of patients with primary brain tumors:\n",
    "     Comparison of two statistical approaches. PLoS One,\n",
    "     11(2):e0148733, 2016.\n",
    "     [https://www.ncbi.nlm.nih.gov/pmc/articles/PMC4749663/](https://www.ncbi.nlm.nih.gov/pmc/articles/PMC4749663/)"
   ]
  },
  {
   "cell_type": "code",
   "execution_count": null,
   "id": "519fa8cf",
   "metadata": {
    "execution": {
     "iopub.execute_input": "2023-07-26T12:47:09.619445Z",
     "iopub.status.busy": "2023-07-26T12:47:09.618768Z",
     "iopub.status.idle": "2023-07-26T12:47:10.149955Z",
     "shell.execute_reply": "2023-07-26T12:47:10.149508Z"
    }
   },
   "outputs": [],
   "source": [
    "from ISLP import load_data\n",
    "BrainCancer = load_data('BrainCancer')\n",
    "BrainCancer.columns"
   ]
  },
  {
   "cell_type": "code",
   "execution_count": null,
   "id": "ac7f1920",
   "metadata": {
    "execution": {
     "iopub.execute_input": "2023-07-26T12:47:10.151658Z",
     "iopub.status.busy": "2023-07-26T12:47:10.151541Z",
     "iopub.status.idle": "2023-07-26T12:47:10.153944Z",
     "shell.execute_reply": "2023-07-26T12:47:10.153658Z"
    }
   },
   "outputs": [],
   "source": [
    "BrainCancer.shape"
   ]
  },
  {
   "cell_type": "code",
   "execution_count": null,
   "id": "64b3177f",
   "metadata": {
    "execution": {
     "iopub.execute_input": "2023-07-26T12:47:10.155433Z",
     "iopub.status.busy": "2023-07-26T12:47:10.155323Z",
     "iopub.status.idle": "2023-07-26T12:47:10.157819Z",
     "shell.execute_reply": "2023-07-26T12:47:10.157458Z"
    }
   },
   "outputs": [],
   "source": [
    "BrainCancer.columns"
   ]
  },
  {
   "cell_type": "code",
   "execution_count": null,
   "id": "8132496d",
   "metadata": {
    "execution": {
     "iopub.execute_input": "2023-07-26T12:47:10.159542Z",
     "iopub.status.busy": "2023-07-26T12:47:10.159420Z",
     "iopub.status.idle": "2023-07-26T12:47:10.166890Z",
     "shell.execute_reply": "2023-07-26T12:47:10.166610Z"
    }
   },
   "outputs": [],
   "source": [
    "BrainCancer.describe()"
   ]
  },
  {
   "cell_type": "code",
   "execution_count": null,
   "id": "ed04719d",
   "metadata": {
    "execution": {
     "iopub.execute_input": "2023-07-26T12:47:10.168420Z",
     "iopub.status.busy": "2023-07-26T12:47:10.168324Z",
     "iopub.status.idle": "2023-07-26T12:47:10.171157Z",
     "shell.execute_reply": "2023-07-26T12:47:10.170862Z"
    }
   },
   "outputs": [],
   "source": [
    "BrainCancer['diagnosis'].value_counts()"
   ]
  }
 ],
 "metadata": {
  "jupytext": {
   "cell_metadata_filter": "-all",
   "formats": "source/datasets///ipynb,jupyterbook/datasets///md:myst,jupyterbook/datasets///ipynb",
   "main_language": "python"
  },
  "kernelspec": {
   "display_name": "python3",
   "language": "python",
   "name": "python3"
  },
  "language_info": {
   "codemirror_mode": {
    "name": "ipython",
    "version": 3
   },
   "file_extension": ".py",
   "mimetype": "text/x-python",
   "name": "python",
   "nbconvert_exporter": "python",
   "pygments_lexer": "ipython3",
   "version": "3.9.17"
  }
 },
 "nbformat": 4,
 "nbformat_minor": 5
}
