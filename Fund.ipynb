{
 "cells": [
  {
   "cell_type": "markdown",
   "id": "ce3e3118",
   "metadata": {},
   "source": [
    "# Fund Manager Data\n",
    "\n",
    "A simulated data set containing the returns for 2,000 hedge fund\n",
    "managers."
   ]
  },
  {
   "cell_type": "code",
   "execution_count": null,
   "id": "5eba8e49",
   "metadata": {
    "execution": {
     "iopub.execute_input": "2023-07-26T12:46:59.809785Z",
     "iopub.status.busy": "2023-07-26T12:46:59.809389Z",
     "iopub.status.idle": "2023-07-26T12:47:00.410897Z",
     "shell.execute_reply": "2023-07-26T12:47:00.410627Z"
    }
   },
   "outputs": [],
   "source": [
    "from ISLP import load_data\n",
    "Fund = load_data('Fund')\n",
    "Fund.columns"
   ]
  },
  {
   "cell_type": "code",
   "execution_count": null,
   "id": "ced3b335",
   "metadata": {
    "execution": {
     "iopub.execute_input": "2023-07-26T12:47:00.412492Z",
     "iopub.status.busy": "2023-07-26T12:47:00.412385Z",
     "iopub.status.idle": "2023-07-26T12:47:00.414444Z",
     "shell.execute_reply": "2023-07-26T12:47:00.414168Z"
    }
   },
   "outputs": [],
   "source": [
    "Fund.shape"
   ]
  },
  {
   "cell_type": "code",
   "execution_count": null,
   "id": "bfff1ac6",
   "metadata": {
    "execution": {
     "iopub.execute_input": "2023-07-26T12:47:00.415891Z",
     "iopub.status.busy": "2023-07-26T12:47:00.415789Z",
     "iopub.status.idle": "2023-07-26T12:47:00.417755Z",
     "shell.execute_reply": "2023-07-26T12:47:00.417529Z"
    }
   },
   "outputs": [],
   "source": [
    "Fund.columns"
   ]
  }
 ],
 "metadata": {
  "jupytext": {
   "cell_metadata_filter": "-all",
   "formats": "source/datasets///ipynb,jupyterbook/datasets///md:myst,jupyterbook/datasets///ipynb",
   "main_language": "python"
  },
  "kernelspec": {
   "display_name": "python3",
   "language": "python",
   "name": "python3"
  },
  "language_info": {
   "codemirror_mode": {
    "name": "ipython",
    "version": 3
   },
   "file_extension": ".py",
   "mimetype": "text/x-python",
   "name": "python",
   "nbconvert_exporter": "python",
   "pygments_lexer": "ipython3",
   "version": "3.9.17"
  }
 },
 "nbformat": 4,
 "nbformat_minor": 5
}
