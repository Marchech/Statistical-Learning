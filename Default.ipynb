{
 "cells": [
  {
   "cell_type": "markdown",
   "id": "2d9583bc",
   "metadata": {},
   "source": [
    "# Credit Card Default Data\n",
    "\n",
    "A simulated data set containing information on ten thousand\n",
    "customers. The aim here is to predict which customers will default\n",
    "on their credit card debt.\n",
    "     \n",
    "- `default`: A factor with levels ‘No’ and ‘Yes’ indicating whether\n",
    "          the customer defaulted on their debt\n",
    "\n",
    "- `student`: A factor with levels ‘No’ and ‘Yes’ indicating whether\n",
    "          the customer is a student\n",
    "\n",
    "- `balance`: The average balance that the customer has remaining on\n",
    "          their credit card after making their monthly payment\n",
    "\n",
    "- `income`: Income of customer"
   ]
  },
  {
   "cell_type": "code",
   "execution_count": null,
   "id": "ab810dee",
   "metadata": {
    "execution": {
     "iopub.execute_input": "2023-07-26T12:47:36.566964Z",
     "iopub.status.busy": "2023-07-26T12:47:36.566691Z",
     "iopub.status.idle": "2023-07-26T12:47:37.127499Z",
     "shell.execute_reply": "2023-07-26T12:47:37.127183Z"
    }
   },
   "outputs": [],
   "source": [
    "from ISLP import load_data\n",
    "Default = load_data('Default')\n",
    "Default.columns"
   ]
  },
  {
   "cell_type": "code",
   "execution_count": null,
   "id": "086ef3a2",
   "metadata": {
    "execution": {
     "iopub.execute_input": "2023-07-26T12:47:37.129114Z",
     "iopub.status.busy": "2023-07-26T12:47:37.129003Z",
     "iopub.status.idle": "2023-07-26T12:47:37.131023Z",
     "shell.execute_reply": "2023-07-26T12:47:37.130778Z"
    }
   },
   "outputs": [],
   "source": [
    "Default.shape"
   ]
  },
  {
   "cell_type": "code",
   "execution_count": null,
   "id": "6600c13b",
   "metadata": {
    "execution": {
     "iopub.execute_input": "2023-07-26T12:47:37.132471Z",
     "iopub.status.busy": "2023-07-26T12:47:37.132373Z",
     "iopub.status.idle": "2023-07-26T12:47:37.134281Z",
     "shell.execute_reply": "2023-07-26T12:47:37.134067Z"
    }
   },
   "outputs": [],
   "source": [
    "Default.columns"
   ]
  },
  {
   "cell_type": "code",
   "execution_count": null,
   "id": "09e98840",
   "metadata": {
    "execution": {
     "iopub.execute_input": "2023-07-26T12:47:37.135578Z",
     "iopub.status.busy": "2023-07-26T12:47:37.135480Z",
     "iopub.status.idle": "2023-07-26T12:47:37.141213Z",
     "shell.execute_reply": "2023-07-26T12:47:37.140974Z"
    }
   },
   "outputs": [],
   "source": [
    "Default.describe()"
   ]
  },
  {
   "cell_type": "code",
   "execution_count": null,
   "id": "425f0cb1",
   "metadata": {
    "execution": {
     "iopub.execute_input": "2023-07-26T12:47:37.142597Z",
     "iopub.status.busy": "2023-07-26T12:47:37.142519Z",
     "iopub.status.idle": "2023-07-26T12:47:37.145148Z",
     "shell.execute_reply": "2023-07-26T12:47:37.144915Z"
    }
   },
   "outputs": [],
   "source": [
    "Default['student'].value_counts()"
   ]
  }
 ],
 "metadata": {
  "jupytext": {
   "cell_metadata_filter": "-all",
   "formats": "source/datasets///ipynb,jupyterbook/datasets///md:myst,jupyterbook/datasets///ipynb",
   "main_language": "python"
  },
  "kernelspec": {
   "display_name": "python3",
   "language": "python",
   "name": "python3"
  },
  "language_info": {
   "codemirror_mode": {
    "name": "ipython",
    "version": 3
   },
   "file_extension": ".py",
   "mimetype": "text/x-python",
   "name": "python",
   "nbconvert_exporter": "python",
   "pygments_lexer": "ipython3",
   "version": "3.9.17"
  }
 },
 "nbformat": 4,
 "nbformat_minor": 5
}
