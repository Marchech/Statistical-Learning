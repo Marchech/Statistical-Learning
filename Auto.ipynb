{
 "cells": [
  {
   "cell_type": "markdown",
   "id": "1afba2f2",
   "metadata": {},
   "source": [
    "# Auto Data\n",
    "\n",
    "Gas mileage, horsepower, and other information for 392 vehicles.\n",
    "\n",
    "A data frame with 392 observations on the following 9 variables.\n",
    "\n",
    "- `mpg`: miles per gallon\n",
    "\n",
    "- `cylinders`: Number of cylinders between 4 and 8\n",
    "\n",
    "- `displacement`: Engine displacement (cu. inches)\n",
    "\n",
    "- `horsepower`: Engine horsepower\n",
    "\n",
    "- `weight`: Vehicle weight (lbs.)\n",
    "\n",
    "- `acceleration`: Time to accelerate from 0 to 60 mph (sec.)\n",
    "\n",
    "- `year`: Model year (modulo 100)\n",
    "\n",
    "- `origin`: Origin of car (1. American, 2. European, 3. Japanese)\n",
    "\n",
    "- `name`: Vehicle name\n",
    "\n",
    "\n",
    "## Notes\n",
    "\n",
    "This dataset was taken from the StatLib library which is maintained at\n",
    "Carnegie Mellon University. The dataset was used in the 1983\n",
    "American Statistical Association Exposition. The original dataset\n",
    "has 397 observations, of which 5 have missing values for the\n",
    "variable `horsepower`. These rows are removed here. The original\n",
    "dataset is available at [the book's website](https://www.statlearning.com)."
   ]
  },
  {
   "cell_type": "code",
   "execution_count": null,
   "id": "182ea1d1",
   "metadata": {
    "execution": {
     "iopub.execute_input": "2023-07-26T12:47:43.883548Z",
     "iopub.status.busy": "2023-07-26T12:47:43.883261Z",
     "iopub.status.idle": "2023-07-26T12:47:44.433075Z",
     "shell.execute_reply": "2023-07-26T12:47:44.432801Z"
    }
   },
   "outputs": [],
   "source": [
    "from ISLP import load_data\n",
    "Auto = load_data('Auto')\n",
    "Auto.columns"
   ]
  },
  {
   "cell_type": "code",
   "execution_count": null,
   "id": "979abd7e",
   "metadata": {
    "execution": {
     "iopub.execute_input": "2023-07-26T12:47:44.434662Z",
     "iopub.status.busy": "2023-07-26T12:47:44.434558Z",
     "iopub.status.idle": "2023-07-26T12:47:44.436577Z",
     "shell.execute_reply": "2023-07-26T12:47:44.436322Z"
    }
   },
   "outputs": [],
   "source": [
    "Auto.shape"
   ]
  },
  {
   "cell_type": "code",
   "execution_count": null,
   "id": "7444c0f0",
   "metadata": {
    "execution": {
     "iopub.execute_input": "2023-07-26T12:47:44.438047Z",
     "iopub.status.busy": "2023-07-26T12:47:44.437943Z",
     "iopub.status.idle": "2023-07-26T12:47:44.439951Z",
     "shell.execute_reply": "2023-07-26T12:47:44.439712Z"
    }
   },
   "outputs": [],
   "source": [
    "Auto.columns"
   ]
  },
  {
   "cell_type": "code",
   "execution_count": null,
   "id": "59b6e919",
   "metadata": {
    "execution": {
     "iopub.execute_input": "2023-07-26T12:47:44.441257Z",
     "iopub.status.busy": "2023-07-26T12:47:44.441161Z",
     "iopub.status.idle": "2023-07-26T12:47:44.449658Z",
     "shell.execute_reply": "2023-07-26T12:47:44.449426Z"
    }
   },
   "outputs": [],
   "source": [
    "Auto.describe().iloc[:,:4]"
   ]
  }
 ],
 "metadata": {
  "jupytext": {
   "formats": "source/datasets///ipynb,jupyterbook/datasets///md:myst,jupyterbook/datasets///ipynb"
  },
  "kernelspec": {
   "display_name": "python3",
   "language": "python",
   "name": "python3"
  },
  "language_info": {
   "codemirror_mode": {
    "name": "ipython",
    "version": 3
   },
   "file_extension": ".py",
   "mimetype": "text/x-python",
   "name": "python",
   "nbconvert_exporter": "python",
   "pygments_lexer": "ipython3",
   "version": "3.9.17"
  }
 },
 "nbformat": 4,
 "nbformat_minor": 5
}
