{
 "cells": [
  {
   "cell_type": "markdown",
   "id": "56ff58b6",
   "metadata": {},
   "source": [
    "# Mid-Atlantic Wage Data\n",
    "\n",
    "Wage and other data for a group of 3000 male workers in the\n",
    "Mid-Atlantic region.\n",
    "\n",
    "- `year`: Year that wage information was recorded\n",
    "\n",
    "- `age`: Age of worker\n",
    "\n",
    "- `maritl`: A factor with levels '1. Never Married', '2. Married', '3.\n",
    " '3. Widowed', '4. Divorced' and '5. Separated' indicating marital\n",
    " status\n",
    "\n",
    "- `race`: A factor with levels '1. White', '2. Black', '3. Asian' and\n",
    " '4. Other' indicating race\n",
    "\n",
    "- `education`: A factor with levels '1. < HS Grad', '2. HS Grad', \n",
    " '3. Some College', '4. College Grad' and '5. Advanced Degree'\n",
    " indicating education level\n",
    "\n",
    "- `region`: Region of the country (mid-atlantic only)\n",
    "\n",
    "- `jobclass`: A factor with levels '1. Industrial' and '2.\n",
    " Information' indicating type of job\n",
    "\n",
    "- `health`: A factor with levels '1. <=Good' and '2. >=Very Good'\n",
    " indicating health level of worker\n",
    "\n",
    "- `health_ins`: A factor with levels '1. Yes' and '2. No' indicating\n",
    " whether worker has health insurance\n",
    "\n",
    "- `logwage`: Log of workers wage\n",
    "\n",
    "- `wage`: Workers raw wage\n",
    "\n",
    "## Source\n",
    "\n",
    "Data was manually assembled by Steve Miller, of Inquidia\n",
    "Consulting (formerly Open BI). From the March 2011 Supplement to\n",
    "Current Population Survey data.\n",
    "\n",
    "See also: [re3data.org/repository/r3d100011860](https://www.re3data.org/repository/r3d100011860)"
   ]
  },
  {
   "cell_type": "code",
   "execution_count": null,
   "id": "6832d321",
   "metadata": {
    "execution": {
     "iopub.execute_input": "2023-07-26T12:47:04.731864Z",
     "iopub.status.busy": "2023-07-26T12:47:04.731413Z",
     "iopub.status.idle": "2023-07-26T12:47:05.295785Z",
     "shell.execute_reply": "2023-07-26T12:47:05.295452Z"
    }
   },
   "outputs": [],
   "source": [
    "from ISLP import load_data\n",
    "Wage = load_data('Wage')\n",
    "Wage.columns"
   ]
  },
  {
   "cell_type": "code",
   "execution_count": null,
   "id": "1c1ad3f3",
   "metadata": {
    "execution": {
     "iopub.execute_input": "2023-07-26T12:47:05.297482Z",
     "iopub.status.busy": "2023-07-26T12:47:05.297357Z",
     "iopub.status.idle": "2023-07-26T12:47:05.299508Z",
     "shell.execute_reply": "2023-07-26T12:47:05.299247Z"
    }
   },
   "outputs": [],
   "source": [
    "Wage.shape"
   ]
  },
  {
   "cell_type": "code",
   "execution_count": null,
   "id": "d56ab6a4",
   "metadata": {
    "execution": {
     "iopub.execute_input": "2023-07-26T12:47:05.300989Z",
     "iopub.status.busy": "2023-07-26T12:47:05.300875Z",
     "iopub.status.idle": "2023-07-26T12:47:05.303024Z",
     "shell.execute_reply": "2023-07-26T12:47:05.302786Z"
    }
   },
   "outputs": [],
   "source": [
    "Wage.columns"
   ]
  },
  {
   "cell_type": "code",
   "execution_count": null,
   "id": "5f021939",
   "metadata": {
    "execution": {
     "iopub.execute_input": "2023-07-26T12:47:05.304606Z",
     "iopub.status.busy": "2023-07-26T12:47:05.304487Z",
     "iopub.status.idle": "2023-07-26T12:47:05.311771Z",
     "shell.execute_reply": "2023-07-26T12:47:05.311522Z"
    }
   },
   "outputs": [],
   "source": [
    "Wage.describe()"
   ]
  }
 ],
 "metadata": {
  "jupytext": {
   "cell_metadata_filter": "-all",
   "formats": "source/datasets///ipynb,jupyterbook/datasets///md:myst,jupyterbook/datasets///ipynb",
   "main_language": "python"
  },
  "kernelspec": {
   "display_name": "Python 3 (ipykernel)",
   "language": "python",
   "name": "python3"
  },
  "language_info": {
   "codemirror_mode": {
    "name": "ipython",
    "version": 3
   },
   "file_extension": ".py",
   "mimetype": "text/x-python",
   "name": "python",
   "nbconvert_exporter": "python",
   "pygments_lexer": "ipython3",
   "version": "3.11.3"
  },
  "nbTranslate": {
   "displayLangs": [
    "*"
   ],
   "hotkey": "alt-t",
   "langInMainMenu": true,
   "sourceLang": "en",
   "targetLang": "fr",
   "useGoogleTranslate": true
  },
  "toc": {
   "base_numbering": 1,
   "nav_menu": {},
   "number_sections": true,
   "sideBar": true,
   "skip_h1_title": false,
   "title_cell": "Table of Contents",
   "title_sidebar": "Contents",
   "toc_cell": false,
   "toc_position": {},
   "toc_section_display": true,
   "toc_window_display": false
  },
  "varInspector": {
   "cols": {
    "lenName": 16,
    "lenType": 16,
    "lenVar": 40
   },
   "kernels_config": {
    "python": {
     "delete_cmd_postfix": "",
     "delete_cmd_prefix": "del ",
     "library": "var_list.py",
     "varRefreshCmd": "print(var_dic_list())"
    },
    "r": {
     "delete_cmd_postfix": ") ",
     "delete_cmd_prefix": "rm(",
     "library": "var_list.r",
     "varRefreshCmd": "cat(var_dic_list()) "
    }
   },
   "types_to_exclude": [
    "module",
    "function",
    "builtin_function_or_method",
    "instance",
    "_Feature"
   ],
   "window_display": false
  }
 },
 "nbformat": 4,
 "nbformat_minor": 5
}
