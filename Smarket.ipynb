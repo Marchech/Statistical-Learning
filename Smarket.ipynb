{
 "cells": [
  {
   "cell_type": "markdown",
   "id": "1e051d30",
   "metadata": {},
   "source": [
    "# S&P Stock Market Data\n",
    "\n",
    "Daily percentage returns for the S&P 500 stock index between 2001\n",
    "and 2005.\n",
    "\n",
    "- `Year`: The year that the observation was recorded\n",
    "\n",
    "- `Lag1`: Percentage return for previous day\n",
    "\n",
    "- `Lag2`: Percentage return for 2 days previous\n",
    "\n",
    "- `Lag3`: Percentage return for 3 days previous\n",
    "\n",
    "- `Lag4`: Percentage return for 4 days previous\n",
    "\n",
    "- `Lag5`: Percentage return for 5 days previous\n",
    "\n",
    "- `Volume`: Volume of shares traded (number of daily shares traded in\n",
    "          billions)\n",
    "\n",
    "- `Today`: Percentage return for today\n",
    "\n",
    "- `Direction`: A factor with levels 'Down' and 'Up' indicating\n",
    " whether the market had a positive or negative return on a\n",
    " given day\n",
    "\n",
    "## Source\n",
    "\n",
    "Raw values of the S&P 500 were obtained from Yahoo Finance and\n",
    "then converted to percentages and lagged."
   ]
  },
  {
   "cell_type": "code",
   "execution_count": null,
   "id": "3d920337",
   "metadata": {
    "execution": {
     "iopub.execute_input": "2023-07-26T12:47:21.928355Z",
     "iopub.status.busy": "2023-07-26T12:47:21.927766Z",
     "iopub.status.idle": "2023-07-26T12:47:22.480597Z",
     "shell.execute_reply": "2023-07-26T12:47:22.480297Z"
    }
   },
   "outputs": [],
   "source": [
    "from ISLP import load_data\n",
    "Smarket = load_data('Smarket')\n",
    "Smarket.columns"
   ]
  },
  {
   "cell_type": "code",
   "execution_count": null,
   "id": "25d90138",
   "metadata": {
    "execution": {
     "iopub.execute_input": "2023-07-26T12:47:22.482125Z",
     "iopub.status.busy": "2023-07-26T12:47:22.482016Z",
     "iopub.status.idle": "2023-07-26T12:47:22.484017Z",
     "shell.execute_reply": "2023-07-26T12:47:22.483801Z"
    }
   },
   "outputs": [],
   "source": [
    "Smarket.shape"
   ]
  },
  {
   "cell_type": "code",
   "execution_count": null,
   "id": "0e8c57de",
   "metadata": {
    "execution": {
     "iopub.execute_input": "2023-07-26T12:47:22.485456Z",
     "iopub.status.busy": "2023-07-26T12:47:22.485359Z",
     "iopub.status.idle": "2023-07-26T12:47:22.487416Z",
     "shell.execute_reply": "2023-07-26T12:47:22.487186Z"
    }
   },
   "outputs": [],
   "source": [
    "Smarket.columns"
   ]
  },
  {
   "cell_type": "code",
   "execution_count": null,
   "id": "2d455f1e",
   "metadata": {
    "execution": {
     "iopub.execute_input": "2023-07-26T12:47:22.488803Z",
     "iopub.status.busy": "2023-07-26T12:47:22.488706Z",
     "iopub.status.idle": "2023-07-26T12:47:22.497401Z",
     "shell.execute_reply": "2023-07-26T12:47:22.497165Z"
    }
   },
   "outputs": [],
   "source": [
    "Smarket.describe().iloc[:,-4:]"
   ]
  }
 ],
 "metadata": {
  "jupytext": {
   "cell_metadata_filter": "-all",
   "formats": "source/datasets///ipynb,jupyterbook/datasets///md:myst,jupyterbook/datasets///ipynb",
   "main_language": "python"
  },
  "kernelspec": {
   "display_name": "python3",
   "language": "python",
   "name": "python3"
  },
  "language_info": {
   "codemirror_mode": {
    "name": "ipython",
    "version": 3
   },
   "file_extension": ".py",
   "mimetype": "text/x-python",
   "name": "python",
   "nbconvert_exporter": "python",
   "pygments_lexer": "ipython3",
   "version": "3.9.17"
  }
 },
 "nbformat": 4,
 "nbformat_minor": 5
}
