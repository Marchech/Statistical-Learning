{
 "cells": [
  {
   "cell_type": "markdown",
   "id": "9dc206d2",
   "metadata": {},
   "source": [
    "# New York Stock Exchange Data\n",
    "\n",
    "Data consisting of the Dow Jones returns, log trading volume, and\n",
    "log volatility for the New York Stock Exchange over a 20 year\n",
    "period\n",
    "\n",
    "- `date`: Date\n",
    "\n",
    "- `day_of_week`: Day of the week\n",
    "\n",
    "- `DJ_return`: Return for Dow Jones Industrial Average\n",
    "\n",
    "- `log_volume`: Log of trading volume\n",
    "\n",
    "- `log_volatility`: Log of volatility\n",
    "\n",
    "- `train`: For the first 4,281 observations, this is set to `True`\n",
    "\n",
    "## Source\n",
    "\n",
    "- B. LeBaron and A. Weigend (1998), IEEE Transactions on Neural\n",
    "Networks 9(1): 213-220."
   ]
  },
  {
   "cell_type": "code",
   "execution_count": null,
   "id": "fcff6c95",
   "metadata": {
    "execution": {
     "iopub.execute_input": "2023-07-26T12:47:24.365935Z",
     "iopub.status.busy": "2023-07-26T12:47:24.365648Z",
     "iopub.status.idle": "2023-07-26T12:47:24.910157Z",
     "shell.execute_reply": "2023-07-26T12:47:24.909886Z"
    }
   },
   "outputs": [],
   "source": [
    "from ISLP import load_data\n",
    "NYSE = load_data('NYSE')\n",
    "NYSE.columns"
   ]
  },
  {
   "cell_type": "code",
   "execution_count": null,
   "id": "84426961",
   "metadata": {
    "execution": {
     "iopub.execute_input": "2023-07-26T12:47:24.911976Z",
     "iopub.status.busy": "2023-07-26T12:47:24.911859Z",
     "iopub.status.idle": "2023-07-26T12:47:24.913899Z",
     "shell.execute_reply": "2023-07-26T12:47:24.913685Z"
    }
   },
   "outputs": [],
   "source": [
    "NYSE.shape"
   ]
  },
  {
   "cell_type": "code",
   "execution_count": null,
   "id": "e6194a8c",
   "metadata": {
    "execution": {
     "iopub.execute_input": "2023-07-26T12:47:24.915295Z",
     "iopub.status.busy": "2023-07-26T12:47:24.915180Z",
     "iopub.status.idle": "2023-07-26T12:47:24.917209Z",
     "shell.execute_reply": "2023-07-26T12:47:24.916991Z"
    }
   },
   "outputs": [],
   "source": [
    "NYSE.columns"
   ]
  },
  {
   "cell_type": "code",
   "execution_count": null,
   "id": "0c7bf3d7",
   "metadata": {
    "execution": {
     "iopub.execute_input": "2023-07-26T12:47:24.918571Z",
     "iopub.status.busy": "2023-07-26T12:47:24.918468Z",
     "iopub.status.idle": "2023-07-26T12:47:24.924914Z",
     "shell.execute_reply": "2023-07-26T12:47:24.924671Z"
    }
   },
   "outputs": [],
   "source": [
    "NYSE.describe()"
   ]
  }
 ],
 "metadata": {
  "jupytext": {
   "cell_metadata_filter": "-all",
   "formats": "source/datasets///ipynb,jupyterbook/datasets///md:myst,jupyterbook/datasets///ipynb",
   "main_language": "python"
  },
  "kernelspec": {
   "display_name": "python3",
   "language": "python",
   "name": "python3"
  },
  "language_info": {
   "codemirror_mode": {
    "name": "ipython",
    "version": 3
   },
   "file_extension": ".py",
   "mimetype": "text/x-python",
   "name": "python",
   "nbconvert_exporter": "python",
   "pygments_lexer": "ipython3",
   "version": "3.9.17"
  }
 },
 "nbformat": 4,
 "nbformat_minor": 5
}
